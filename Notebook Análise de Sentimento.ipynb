{
  "nbformat": 4,
  "nbformat_minor": 0,
  "metadata": {
    "colab": {
      "name": "Projeto ICD.ipynb",
      "provenance": [],
      "collapsed_sections": []
    },
    "kernelspec": {
      "display_name": "Python 3",
      "language": "python",
      "name": "python3"
    },
    "language_info": {
      "codemirror_mode": {
        "name": "ipython",
        "version": 3
      },
      "file_extension": ".py",
      "mimetype": "text/x-python",
      "name": "python",
      "nbconvert_exporter": "python",
      "pygments_lexer": "ipython3",
      "version": "3.8.8"
    }
  },
  "cells": [
    {
      "cell_type": "markdown",
      "metadata": {
        "id": "UaHQ40EU_jaP"
      },
      "source": [
        "<h1>Análise de Sentimento em Tweets em Português</h1>"
      ]
    },
    {
      "cell_type": "markdown",
      "metadata": {
        "id": "zaIdMDHw_jaY"
      },
      "source": [
        "<h2>Contexto</h2>\n",
        "<br/>\n",
        "\n",
        "A base de dados tem tweets em português divididos em positivos, negativos e neutros para classificação de sentimentos.\n",
        "<br/>\n",
        "\n",
        "<br/>\n",
        "\n",
        "Inicialmente, fazemos uma preparação dos dados, removendo ruídos, diminuindo a dimensionalidade dos tweets, padronização de itens lexicais e validação de símbolos para a classificação\n",
        "\n",
        "\n",
        "<h4>Dados</h4>\n",
        "<ul>\n",
        "  <li>Training dataset: Train3Classes.csv</li>\n",
        "  <li>Test dataset: Test3Classes.csv</li>\n",
        "   <li>Custom Stopwords: stopwords-pt-br.txt</li>\n",
        "</ul> \n",
        "\n",
        "<h4>Descrição das colunas</h4>\n",
        "<ul>\n",
        "  <li>id: identificador de string vindo do Twitter</li>\n",
        "  <li>tweet_text: Texto completo do tweet</li>\n",
        "  <li>tweet_date: Data de criação do tweet</li>\n",
        "  <li>sentiment: Classificação de sentimento (positivo, negativo ou neutro)</li>\n",
        "  <li>query_used: método de consulta para obtenção do tweet utilizado</li>\n",
        "</ul> "
      ]
    },
    {
      "cell_type": "markdown",
      "metadata": {
        "id": "NKLNpBJ-_jac"
      },
      "source": [
        "<h2>Conteúdo</h2>\n",
        "<ul>\n",
        "  <li>Carregando bibliotecas</li>\n",
        "  <li>Divisão de colunas</li>\n",
        "  <li>Carregando o dataset de treino</li>\n",
        "  <li>Carregando o dataset de teste</li>\n",
        "  <li>Preprocessamento do texto</li>\n",
        "  <li>Análise exploratória</li>\n",
        "  <li>Bag-of-Words</li>\n",
        "  <li>Preparação do algoritmo e teste do modelo NB</li>\n",
        "  <li>Predições individuais</li>\n",
        "  <li>Avaliação do modelo</li>\n",
        "  <li>Construindo pipeline MultinomialNB</li>\n",
        "  <li>Construindo pipeline SGDClassifier(SVM)</li>\n",
        "  <li>Ajuste de parâmetro usando grid search SGDClassifier</li>\n",
        "  <li>Avaliando outros modelos</li>\n",
        "  <li>Implementando Regressão Logística</li>\n",
        "  <li>Implementing Random Forest</li>\n",
        "  <li>Implementing Gradient Boosting Model</li>\n",
        "  <li>Implementing Neural Networks (not implemented...)</li>\n",
        "</ul>"
      ]
    },
    {
      "cell_type": "markdown",
      "metadata": {
        "id": "4iNQA7k3_jad"
      },
      "source": [
        "<h2>Carregando bibliotecas</h2>"
      ]
    },
    {
      "cell_type": "code",
      "metadata": {
        "id": "7R8fhVWQ_jaf"
      },
      "source": [
        "import os\n",
        "import pandas as pd\n",
        "import numpy as np\n",
        "import random\n",
        "import re\n",
        "import nltk\n",
        "from nltk.tokenize import word_tokenize\n",
        "from nltk.tokenize import wordpunct_tokenize\n",
        "# from nltk.tokenize import sent_tokenize (Tokenization)\n",
        "from nltk.probability import FreqDist\n",
        "from nltk.metrics import ConfusionMatrix\n",
        "from wordcloud import WordCloud\n",
        "import matplotlib.pyplot as plt\n",
        "from sklearn.feature_extraction.text import CountVectorizer\n",
        "from sklearn.feature_extraction.text import TfidfTransformer\n",
        "from sklearn.naive_bayes import MultinomialNB\n",
        "from sklearn.linear_model import SGDClassifier\n",
        "from sklearn.linear_model import LogisticRegression\n",
        "from sklearn.svm import SVC\n",
        "from sklearn.ensemble import RandomForestClassifier\n",
        "from sklearn.pipeline import Pipeline\n",
        "from sklearn import metrics\n",
        "from sklearn.model_selection import GridSearchCV"
      ],
      "execution_count": null,
      "outputs": []
    },
    {
      "cell_type": "markdown",
      "metadata": {
        "id": "R65lvC9v_jag"
      },
      "source": [
        "<h2>Divisão de colunas</h2>"
      ]
    },
    {
      "cell_type": "code",
      "metadata": {
        "id": "VGogyjDI_jai"
      },
      "source": [
        "# predictor\n",
        "X_col = 'tweet_text'\n",
        "# classifier\n",
        "y_col = 'sentiment' "
      ],
      "execution_count": null,
      "outputs": []
    },
    {
      "cell_type": "markdown",
      "metadata": {
        "id": "d30YfHzb_jai"
      },
      "source": [
        "<h2>Carregando o dataset de treino</h2>"
      ]
    },
    {
      "cell_type": "markdown",
      "metadata": {
        "id": "7MTrfEOh_jak"
      },
      "source": [
        "<p>Cada tweet do conjunto de dados de treino já está classificado com um sentimento. O número 0 refere-se a um sentimento \n",
        "negativo, 1, neutro e 2 positivo."
      ]
    },
    {
      "cell_type": "markdown",
      "metadata": {
        "id": "sGqiHz36_jal"
      },
      "source": [
        "<h4>Carregamento e preparo X_train, y_train</h4>"
      ]
    },
    {
      "cell_type": "code",
      "metadata": {
        "colab": {
          "base_uri": "https://localhost:8080/",
          "height": 424
        },
        "id": "ut-FzH37_jao",
        "outputId": "89925300-759d-44ab-d133-832bb4dc9e92"
      },
      "source": [
        "train_ds = pd.read_csv('https://raw.githubusercontent.com/kodapdf/Sentiment-Analysis-Algorithms-Comparison/main/Train3Classes.csv', delimiter=';')\n",
        "train_ds"
      ],
      "execution_count": null,
      "outputs": [
        {
          "output_type": "execute_result",
          "data": {
            "text/html": [
              "<div>\n",
              "<style scoped>\n",
              "    .dataframe tbody tr th:only-of-type {\n",
              "        vertical-align: middle;\n",
              "    }\n",
              "\n",
              "    .dataframe tbody tr th {\n",
              "        vertical-align: top;\n",
              "    }\n",
              "\n",
              "    .dataframe thead th {\n",
              "        text-align: right;\n",
              "    }\n",
              "</style>\n",
              "<table border=\"1\" class=\"dataframe\">\n",
              "  <thead>\n",
              "    <tr style=\"text-align: right;\">\n",
              "      <th></th>\n",
              "      <th>id</th>\n",
              "      <th>tweet_text</th>\n",
              "      <th>tweet_date</th>\n",
              "      <th>sentiment</th>\n",
              "      <th>query_used</th>\n",
              "    </tr>\n",
              "  </thead>\n",
              "  <tbody>\n",
              "    <tr>\n",
              "      <th>0</th>\n",
              "      <td>1050785521201541121</td>\n",
              "      <td>@Laranjito76 A pessoa certa para isso seria o ...</td>\n",
              "      <td>Fri Oct 12 16:29:25 +0000 2018</td>\n",
              "      <td>1</td>\n",
              "      <td>:)</td>\n",
              "    </tr>\n",
              "    <tr>\n",
              "      <th>1</th>\n",
              "      <td>1050785431955140608</td>\n",
              "      <td>@behin_d_curtain Para mim, é precisamente o co...</td>\n",
              "      <td>Fri Oct 12 16:29:04 +0000 2018</td>\n",
              "      <td>1</td>\n",
              "      <td>:)</td>\n",
              "    </tr>\n",
              "    <tr>\n",
              "      <th>2</th>\n",
              "      <td>1050785401248645120</td>\n",
              "      <td>Vou fazer um video hoje... estou pensando em f...</td>\n",
              "      <td>Fri Oct 12 16:28:56 +0000 2018</td>\n",
              "      <td>1</td>\n",
              "      <td>:)</td>\n",
              "    </tr>\n",
              "    <tr>\n",
              "      <th>3</th>\n",
              "      <td>1050785370982547461</td>\n",
              "      <td>aaaaaaaa amei tanto essas polaroids, nem sei e...</td>\n",
              "      <td>Fri Oct 12 16:28:49 +0000 2018</td>\n",
              "      <td>1</td>\n",
              "      <td>:)</td>\n",
              "    </tr>\n",
              "    <tr>\n",
              "      <th>4</th>\n",
              "      <td>1050785368902131713</td>\n",
              "      <td>Valoriza o coração do menininho que vc tem. El...</td>\n",
              "      <td>Fri Oct 12 16:28:49 +0000 2018</td>\n",
              "      <td>1</td>\n",
              "      <td>:)</td>\n",
              "    </tr>\n",
              "    <tr>\n",
              "      <th>...</th>\n",
              "      <td>...</td>\n",
              "      <td>...</td>\n",
              "      <td>...</td>\n",
              "      <td>...</td>\n",
              "      <td>...</td>\n",
              "    </tr>\n",
              "    <tr>\n",
              "      <th>99995</th>\n",
              "      <td>1030468564715794432</td>\n",
              "      <td>Confira esta vaga na Senac-RS: Editor De Video...</td>\n",
              "      <td>Fri Aug 17 14:57:05 +0000 2018</td>\n",
              "      <td>2</td>\n",
              "      <td>#oportunidade</td>\n",
              "    </tr>\n",
              "    <tr>\n",
              "      <th>99996</th>\n",
              "      <td>1030468147353210881</td>\n",
              "      <td>Confira esta vaga na Grupo SABEMI: Assistente ...</td>\n",
              "      <td>Fri Aug 17 14:55:26 +0000 2018</td>\n",
              "      <td>2</td>\n",
              "      <td>#oportunidade</td>\n",
              "    </tr>\n",
              "    <tr>\n",
              "      <th>99997</th>\n",
              "      <td>1030467484766359552</td>\n",
              "      <td>Confira esta vaga na Groupe L’OCCITANE: Gerent...</td>\n",
              "      <td>Fri Aug 17 14:52:48 +0000 2018</td>\n",
              "      <td>2</td>\n",
              "      <td>#oportunidade</td>\n",
              "    </tr>\n",
              "    <tr>\n",
              "      <th>99998</th>\n",
              "      <td>1030466921702076416</td>\n",
              "      <td>Está no ar o CandidatoWEB, seu novo portal de ...</td>\n",
              "      <td>Fri Aug 17 14:50:33 +0000 2018</td>\n",
              "      <td>2</td>\n",
              "      <td>#trabalho</td>\n",
              "    </tr>\n",
              "    <tr>\n",
              "      <th>99999</th>\n",
              "      <td>1027373651585249280</td>\n",
              "      <td>Anavitória industrializa pop folk em álbum pau...</td>\n",
              "      <td>Thu Aug 09 01:59:00 +0000 2018</td>\n",
              "      <td>2</td>\n",
              "      <td>g1</td>\n",
              "    </tr>\n",
              "  </tbody>\n",
              "</table>\n",
              "<p>100000 rows × 5 columns</p>\n",
              "</div>"
            ],
            "text/plain": [
              "                        id  ...     query_used\n",
              "0      1050785521201541121  ...             :)\n",
              "1      1050785431955140608  ...             :)\n",
              "2      1050785401248645120  ...             :)\n",
              "3      1050785370982547461  ...             :)\n",
              "4      1050785368902131713  ...             :)\n",
              "...                    ...  ...            ...\n",
              "99995  1030468564715794432  ...  #oportunidade\n",
              "99996  1030468147353210881  ...  #oportunidade\n",
              "99997  1030467484766359552  ...  #oportunidade\n",
              "99998  1030466921702076416  ...      #trabalho\n",
              "99999  1027373651585249280  ...             g1\n",
              "\n",
              "[100000 rows x 5 columns]"
            ]
          },
          "metadata": {},
          "execution_count": 105
        }
      ]
    },
    {
      "cell_type": "code",
      "metadata": {
        "id": "lLBwd54P_jap"
      },
      "source": [
        ""
      ],
      "execution_count": null,
      "outputs": []
    },
    {
      "cell_type": "code",
      "metadata": {
        "colab": {
          "base_uri": "https://localhost:8080/",
          "height": 424
        },
        "id": "9RpO1kFB_jaq",
        "outputId": "c7c501a3-94e7-4dac-ccc9-1f639ce2c625"
      },
      "source": [
        "# Substitui a classificação por número pelo nome da classificação do sentimento\n",
        "train_ds[y_col] = train_ds[y_col].map({0: 'Negative', 1: 'Positive', 2: 'Neutral'})\n",
        "train_ds"
      ],
      "execution_count": null,
      "outputs": [
        {
          "output_type": "execute_result",
          "data": {
            "text/html": [
              "<div>\n",
              "<style scoped>\n",
              "    .dataframe tbody tr th:only-of-type {\n",
              "        vertical-align: middle;\n",
              "    }\n",
              "\n",
              "    .dataframe tbody tr th {\n",
              "        vertical-align: top;\n",
              "    }\n",
              "\n",
              "    .dataframe thead th {\n",
              "        text-align: right;\n",
              "    }\n",
              "</style>\n",
              "<table border=\"1\" class=\"dataframe\">\n",
              "  <thead>\n",
              "    <tr style=\"text-align: right;\">\n",
              "      <th></th>\n",
              "      <th>id</th>\n",
              "      <th>tweet_text</th>\n",
              "      <th>tweet_date</th>\n",
              "      <th>sentiment</th>\n",
              "      <th>query_used</th>\n",
              "    </tr>\n",
              "  </thead>\n",
              "  <tbody>\n",
              "    <tr>\n",
              "      <th>0</th>\n",
              "      <td>1050785521201541121</td>\n",
              "      <td>@Laranjito76 A pessoa certa para isso seria o ...</td>\n",
              "      <td>Fri Oct 12 16:29:25 +0000 2018</td>\n",
              "      <td>Positive</td>\n",
              "      <td>:)</td>\n",
              "    </tr>\n",
              "    <tr>\n",
              "      <th>1</th>\n",
              "      <td>1050785431955140608</td>\n",
              "      <td>@behin_d_curtain Para mim, é precisamente o co...</td>\n",
              "      <td>Fri Oct 12 16:29:04 +0000 2018</td>\n",
              "      <td>Positive</td>\n",
              "      <td>:)</td>\n",
              "    </tr>\n",
              "    <tr>\n",
              "      <th>2</th>\n",
              "      <td>1050785401248645120</td>\n",
              "      <td>Vou fazer um video hoje... estou pensando em f...</td>\n",
              "      <td>Fri Oct 12 16:28:56 +0000 2018</td>\n",
              "      <td>Positive</td>\n",
              "      <td>:)</td>\n",
              "    </tr>\n",
              "    <tr>\n",
              "      <th>3</th>\n",
              "      <td>1050785370982547461</td>\n",
              "      <td>aaaaaaaa amei tanto essas polaroids, nem sei e...</td>\n",
              "      <td>Fri Oct 12 16:28:49 +0000 2018</td>\n",
              "      <td>Positive</td>\n",
              "      <td>:)</td>\n",
              "    </tr>\n",
              "    <tr>\n",
              "      <th>4</th>\n",
              "      <td>1050785368902131713</td>\n",
              "      <td>Valoriza o coração do menininho que vc tem. El...</td>\n",
              "      <td>Fri Oct 12 16:28:49 +0000 2018</td>\n",
              "      <td>Positive</td>\n",
              "      <td>:)</td>\n",
              "    </tr>\n",
              "    <tr>\n",
              "      <th>...</th>\n",
              "      <td>...</td>\n",
              "      <td>...</td>\n",
              "      <td>...</td>\n",
              "      <td>...</td>\n",
              "      <td>...</td>\n",
              "    </tr>\n",
              "    <tr>\n",
              "      <th>99995</th>\n",
              "      <td>1030468564715794432</td>\n",
              "      <td>Confira esta vaga na Senac-RS: Editor De Video...</td>\n",
              "      <td>Fri Aug 17 14:57:05 +0000 2018</td>\n",
              "      <td>Neutral</td>\n",
              "      <td>#oportunidade</td>\n",
              "    </tr>\n",
              "    <tr>\n",
              "      <th>99996</th>\n",
              "      <td>1030468147353210881</td>\n",
              "      <td>Confira esta vaga na Grupo SABEMI: Assistente ...</td>\n",
              "      <td>Fri Aug 17 14:55:26 +0000 2018</td>\n",
              "      <td>Neutral</td>\n",
              "      <td>#oportunidade</td>\n",
              "    </tr>\n",
              "    <tr>\n",
              "      <th>99997</th>\n",
              "      <td>1030467484766359552</td>\n",
              "      <td>Confira esta vaga na Groupe L’OCCITANE: Gerent...</td>\n",
              "      <td>Fri Aug 17 14:52:48 +0000 2018</td>\n",
              "      <td>Neutral</td>\n",
              "      <td>#oportunidade</td>\n",
              "    </tr>\n",
              "    <tr>\n",
              "      <th>99998</th>\n",
              "      <td>1030466921702076416</td>\n",
              "      <td>Está no ar o CandidatoWEB, seu novo portal de ...</td>\n",
              "      <td>Fri Aug 17 14:50:33 +0000 2018</td>\n",
              "      <td>Neutral</td>\n",
              "      <td>#trabalho</td>\n",
              "    </tr>\n",
              "    <tr>\n",
              "      <th>99999</th>\n",
              "      <td>1027373651585249280</td>\n",
              "      <td>Anavitória industrializa pop folk em álbum pau...</td>\n",
              "      <td>Thu Aug 09 01:59:00 +0000 2018</td>\n",
              "      <td>Neutral</td>\n",
              "      <td>g1</td>\n",
              "    </tr>\n",
              "  </tbody>\n",
              "</table>\n",
              "<p>100000 rows × 5 columns</p>\n",
              "</div>"
            ],
            "text/plain": [
              "                        id  ...     query_used\n",
              "0      1050785521201541121  ...             :)\n",
              "1      1050785431955140608  ...             :)\n",
              "2      1050785401248645120  ...             :)\n",
              "3      1050785370982547461  ...             :)\n",
              "4      1050785368902131713  ...             :)\n",
              "...                    ...  ...            ...\n",
              "99995  1030468564715794432  ...  #oportunidade\n",
              "99996  1030468147353210881  ...  #oportunidade\n",
              "99997  1030467484766359552  ...  #oportunidade\n",
              "99998  1030466921702076416  ...      #trabalho\n",
              "99999  1027373651585249280  ...             g1\n",
              "\n",
              "[100000 rows x 5 columns]"
            ]
          },
          "metadata": {},
          "execution_count": 106
        }
      ]
    },
    {
      "cell_type": "code",
      "metadata": {
        "id": "iNZ_agsI_jaq"
      },
      "source": [
        "X_train = train_ds.loc[:, X_col].values #coluna de texto dos tweets\n",
        "y_train = train_ds.loc[:, y_col].values #valor do sentimento aferido ao tweet"
      ],
      "execution_count": null,
      "outputs": []
    },
    {
      "cell_type": "markdown",
      "metadata": {
        "id": "XyaYbxbE_jar"
      },
      "source": [
        "<h4>Exploratory Analysis</h4>"
      ]
    },
    {
      "cell_type": "code",
      "metadata": {
        "colab": {
          "base_uri": "https://localhost:8080/",
          "height": 206
        },
        "id": "ebnVUUqO_jas",
        "outputId": "8707aead-6245-4252-d8c1-88fae3a70e50"
      },
      "source": [
        "# train_ds.head(5)\n",
        "train_ds.sample(5)\n"
      ],
      "execution_count": null,
      "outputs": [
        {
          "output_type": "execute_result",
          "data": {
            "text/html": [
              "<div>\n",
              "<style scoped>\n",
              "    .dataframe tbody tr th:only-of-type {\n",
              "        vertical-align: middle;\n",
              "    }\n",
              "\n",
              "    .dataframe tbody tr th {\n",
              "        vertical-align: top;\n",
              "    }\n",
              "\n",
              "    .dataframe thead th {\n",
              "        text-align: right;\n",
              "    }\n",
              "</style>\n",
              "<table border=\"1\" class=\"dataframe\">\n",
              "  <thead>\n",
              "    <tr style=\"text-align: right;\">\n",
              "      <th></th>\n",
              "      <th>id</th>\n",
              "      <th>tweet_text</th>\n",
              "      <th>tweet_date</th>\n",
              "      <th>sentiment</th>\n",
              "      <th>query_used</th>\n",
              "    </tr>\n",
              "  </thead>\n",
              "  <tbody>\n",
              "    <tr>\n",
              "      <th>13316</th>\n",
              "      <td>1047539144728223744</td>\n",
              "      <td>Deu ruim hein Camila Pitanga e cia... :) https...</td>\n",
              "      <td>Wed Oct 03 17:29:29 +0000 2018</td>\n",
              "      <td>Positive</td>\n",
              "      <td>:)</td>\n",
              "    </tr>\n",
              "    <tr>\n",
              "      <th>33103</th>\n",
              "      <td>1045331469449801728</td>\n",
              "      <td>Tão bom esperar 20 minutos por transporte :)</td>\n",
              "      <td>Thu Sep 27 15:16:58 +0000 2018</td>\n",
              "      <td>Positive</td>\n",
              "      <td>:)</td>\n",
              "    </tr>\n",
              "    <tr>\n",
              "      <th>14213</th>\n",
              "      <td>1047498614371770368</td>\n",
              "      <td>@vendorepolho @Erro702 @AXEBR Passe bem também :)</td>\n",
              "      <td>Wed Oct 03 14:48:25 +0000 2018</td>\n",
              "      <td>Positive</td>\n",
              "      <td>:)</td>\n",
              "    </tr>\n",
              "    <tr>\n",
              "      <th>20875</th>\n",
              "      <td>1046777371125272576</td>\n",
              "      <td>E eu que ñ tenho chaves de casa :)))</td>\n",
              "      <td>Mon Oct 01 15:02:28 +0000 2018</td>\n",
              "      <td>Positive</td>\n",
              "      <td>:)</td>\n",
              "    </tr>\n",
              "    <tr>\n",
              "      <th>73172</th>\n",
              "      <td>1046911648936673280</td>\n",
              "      <td>Ampla defesa dos acusados justifica divulgação...</td>\n",
              "      <td>Mon Oct 01 23:56:02 +0000 2018</td>\n",
              "      <td>Neutral</td>\n",
              "      <td>folha</td>\n",
              "    </tr>\n",
              "  </tbody>\n",
              "</table>\n",
              "</div>"
            ],
            "text/plain": [
              "                        id  ... query_used\n",
              "13316  1047539144728223744  ...         :)\n",
              "33103  1045331469449801728  ...         :)\n",
              "14213  1047498614371770368  ...         :)\n",
              "20875  1046777371125272576  ...         :)\n",
              "73172  1046911648936673280  ...      folha\n",
              "\n",
              "[5 rows x 5 columns]"
            ]
          },
          "metadata": {},
          "execution_count": 108
        }
      ]
    },
    {
      "cell_type": "code",
      "metadata": {
        "colab": {
          "base_uri": "https://localhost:8080/",
          "height": 330
        },
        "id": "oSmOiFOf_jas",
        "outputId": "bde65548-a260-4478-e4ed-3b6b59ca3540"
      },
      "source": [
        "\n",
        "series = train_ds['sentiment'].value_counts()\n",
        "\n",
        "ax = series.plot(kind='bar', title='Número de observações de cada sentimento')\n",
        "ax.set_xlabel('Sentimento')\n",
        "ax.set_ylabel('Contagem')\n",
        "plt.show()"
      ],
      "execution_count": null,
      "outputs": [
        {
          "output_type": "display_data",
          "data": {
            "image/png": "[encoded data removed]",
            "text/plain": [
              "<Figure size 432x288 with 1 Axes>"
            ]
          },
          "metadata": {
            "needs_background": "light"
          }
        }
      ]
    },
    {
      "cell_type": "markdown",
      "metadata": {
        "id": "6r_3a2Kw_jat"
      },
      "source": [
        "Realizamos também a contagem por meio do caractere utilizado para realizar a consulta do tweet. Por exemplo, \":)\" foi usado para buscar tweets positivos, \":(\", negativos e assim por diante para outros temas, de modo a diversificar o dataset."
      ]
    },
    {
      "cell_type": "code",
      "metadata": {
        "colab": {
          "base_uri": "https://localhost:8080/",
          "height": 361
        },
        "id": "edyocYAK_jau",
        "outputId": "08c8bfcd-c366-4a54-b104-3c7b52088602"
      },
      "source": [
        "#Contagem dos temas\n",
        "series = train_ds['query_used'].value_counts()\n",
        "ax = series.plot(kind='bar', title='Número de observaçoes de temas de consulta')\n",
        "ax.set_xlabel('Sentimento e temas')\n",
        "ax.set_ylabel('Contagem')\n",
        "plt.show()"
      ],
      "execution_count": null,
      "outputs": [
        {
          "output_type": "display_data",
          "data": {
            "image/png": "[encoded data removed]",
            "text/plain": [
              "<Figure size 432x288 with 1 Axes>"
            ]
          },
          "metadata": {
            "needs_background": "light"
          }
        }
      ]
    },
    {
      "cell_type": "code",
      "metadata": {
        "colab": {
          "base_uri": "https://localhost:8080/"
        },
        "id": "s5AUElpA_jau",
        "outputId": "b45880e4-6805-4302-ff5f-40ee0ecb10d0"
      },
      "source": [
        "# check data\n",
        "for i in range(0, 5):\n",
        "    print(y_train[i], ' => ', X_train[i])"
      ],
      "execution_count": null,
      "outputs": [
        {
          "output_type": "stream",
          "name": "stdout",
          "text": [
            "Positive  =>  @Laranjito76 A pessoa certa para isso seria o vale e azevedo :)\n",
            "Positive  =>  @behin_d_curtain Para mim, é precisamente o contrário :) Vem a chuva e vem a boa disposição :)\n",
            "Positive  =>  Vou fazer um video hoje... estou pensando em falar um pouco sobre o novo meta do CSGO e sobre a pagina https://t.co/5RjhKnj0oh Alguem tem uma sugestao? Queria falar sobre algo do cenario nacional :D\n",
            "Positive  =>  aaaaaaaa amei tanto essas polaroids, nem sei expressar o quanto eu to apaixonada de vdd✨💖🎈🎉🎊 espero que outras pessoas consigam ganhar também :) https://t.co/pbIp7tRcSE\n",
            "Positive  =>  Valoriza o coração do menininho que vc tem. Ele é diferente. O faça sorrir e ter certeza disso ❤️ — Eu valorizo todo mundo na minha vida, não vai ser diferente com ele :)) https://t.co/5c7wlXQyz9\n"
          ]
        }
      ]
    },
    {
      "cell_type": "markdown",
      "metadata": {
        "id": "W8CMxG2a_jav"
      },
      "source": [
        "<h2>Carregar conjunto de teste</h2>"
      ]
    },
    {
      "cell_type": "markdown",
      "metadata": {
        "id": "sjaU3COX_jav"
      },
      "source": [
        "<h4>Carregar e preparar X_test, y_test</h4>"
      ]
    },
    {
      "cell_type": "code",
      "metadata": {
        "colab": {
          "base_uri": "https://localhost:8080/",
          "height": 424
        },
        "id": "GrS_ZXRB_jaw",
        "outputId": "34c12151-26ce-454e-e3d5-1f9c959b380e"
      },
      "source": [
        "test_ds = pd.read_csv('https://raw.githubusercontent.com/kodapdf/Sentiment-Analysis-Algorithms-Comparison/main/Test3classes.csv', delimiter=';')\n",
        "test_ds"
      ],
      "execution_count": null,
      "outputs": [
        {
          "output_type": "execute_result",
          "data": {
            "text/html": [
              "<div>\n",
              "<style scoped>\n",
              "    .dataframe tbody tr th:only-of-type {\n",
              "        vertical-align: middle;\n",
              "    }\n",
              "\n",
              "    .dataframe tbody tr th {\n",
              "        vertical-align: top;\n",
              "    }\n",
              "\n",
              "    .dataframe thead th {\n",
              "        text-align: right;\n",
              "    }\n",
              "</style>\n",
              "<table border=\"1\" class=\"dataframe\">\n",
              "  <thead>\n",
              "    <tr style=\"text-align: right;\">\n",
              "      <th></th>\n",
              "      <th>id</th>\n",
              "      <th>tweet_text</th>\n",
              "      <th>tweet_date</th>\n",
              "      <th>sentiment</th>\n",
              "      <th>query_used</th>\n",
              "    </tr>\n",
              "  </thead>\n",
              "  <tbody>\n",
              "    <tr>\n",
              "      <th>0</th>\n",
              "      <td>1029536486021099522</td>\n",
              "      <td>@Gazo1a Nossa! Muito obrigada :)</td>\n",
              "      <td>Wed Aug 15 01:13:20 +0000 2018</td>\n",
              "      <td>1</td>\n",
              "      <td>:)</td>\n",
              "    </tr>\n",
              "    <tr>\n",
              "      <th>1</th>\n",
              "      <td>1029536496368406528</td>\n",
              "      <td>@BerzGamer vai pa puta que te pariu :)</td>\n",
              "      <td>Wed Aug 15 01:13:23 +0000 2018</td>\n",
              "      <td>1</td>\n",
              "      <td>:)</td>\n",
              "    </tr>\n",
              "    <tr>\n",
              "      <th>2</th>\n",
              "      <td>1029536531655131137</td>\n",
              "      <td>QUER MAIS DESCONTOS? (14/08) ⭐⭐⭐⭐⭐ 🌐 Confira n...</td>\n",
              "      <td>Wed Aug 15 01:13:31 +0000 2018</td>\n",
              "      <td>1</td>\n",
              "      <td>:)</td>\n",
              "    </tr>\n",
              "    <tr>\n",
              "      <th>3</th>\n",
              "      <td>1029536560117678081</td>\n",
              "      <td>EU VOU PEGAR VCS, ME AJUDEM GALERA, PELO AMOR ...</td>\n",
              "      <td>Wed Aug 15 01:13:38 +0000 2018</td>\n",
              "      <td>1</td>\n",
              "      <td>:)</td>\n",
              "    </tr>\n",
              "    <tr>\n",
              "      <th>4</th>\n",
              "      <td>1029536605852377088</td>\n",
              "      <td>Estávamos em casa do Zé e eu estava a morrer d...</td>\n",
              "      <td>Wed Aug 15 01:13:49 +0000 2018</td>\n",
              "      <td>1</td>\n",
              "      <td>:)</td>\n",
              "    </tr>\n",
              "    <tr>\n",
              "      <th>...</th>\n",
              "      <td>...</td>\n",
              "      <td>...</td>\n",
              "      <td>...</td>\n",
              "      <td>...</td>\n",
              "      <td>...</td>\n",
              "    </tr>\n",
              "    <tr>\n",
              "      <th>4994</th>\n",
              "      <td>1025115924570034177</td>\n",
              "      <td>STF prorroga inquérito contra Temer por propin...</td>\n",
              "      <td>Thu Aug 02 20:27:36 +0000 2018</td>\n",
              "      <td>2</td>\n",
              "      <td>exame</td>\n",
              "    </tr>\n",
              "    <tr>\n",
              "      <th>4995</th>\n",
              "      <td>1025116532358053888</td>\n",
              "      <td>O misterioso assassinato de três jornalistas r...</td>\n",
              "      <td>Thu Aug 02 20:30:01 +0000 2018</td>\n",
              "      <td>2</td>\n",
              "      <td>g1</td>\n",
              "    </tr>\n",
              "    <tr>\n",
              "      <th>4996</th>\n",
              "      <td>1025117394262519808</td>\n",
              "      <td>Homem morre atropelado por PM na saída do Túne...</td>\n",
              "      <td>Thu Aug 02 20:33:27 +0000 2018</td>\n",
              "      <td>2</td>\n",
              "      <td>jornaloglobo</td>\n",
              "    </tr>\n",
              "    <tr>\n",
              "      <th>4997</th>\n",
              "      <td>1025117768860033025</td>\n",
              "      <td>Ibope: TV é principal meio usado por eleitor p...</td>\n",
              "      <td>Thu Aug 02 20:34:56 +0000 2018</td>\n",
              "      <td>2</td>\n",
              "      <td>exame</td>\n",
              "    </tr>\n",
              "    <tr>\n",
              "      <th>4998</th>\n",
              "      <td>1025118546899156993</td>\n",
              "      <td>Entre abril e junho, 317 pessoas foram mortas ...</td>\n",
              "      <td>Thu Aug 02 20:38:02 +0000 2018</td>\n",
              "      <td>2</td>\n",
              "      <td>exame</td>\n",
              "    </tr>\n",
              "  </tbody>\n",
              "</table>\n",
              "<p>4999 rows × 5 columns</p>\n",
              "</div>"
            ],
            "text/plain": [
              "                       id  ...    query_used\n",
              "0     1029536486021099522  ...            :)\n",
              "1     1029536496368406528  ...            :)\n",
              "2     1029536531655131137  ...            :)\n",
              "3     1029536560117678081  ...            :)\n",
              "4     1029536605852377088  ...            :)\n",
              "...                   ...  ...           ...\n",
              "4994  1025115924570034177  ...         exame\n",
              "4995  1025116532358053888  ...            g1\n",
              "4996  1025117394262519808  ...  jornaloglobo\n",
              "4997  1025117768860033025  ...         exame\n",
              "4998  1025118546899156993  ...         exame\n",
              "\n",
              "[4999 rows x 5 columns]"
            ]
          },
          "metadata": {},
          "execution_count": 112
        }
      ]
    },
    {
      "cell_type": "code",
      "metadata": {
        "colab": {
          "base_uri": "https://localhost:8080/",
          "height": 424
        },
        "id": "Enzrfmto_jax",
        "outputId": "fc109727-c408-4ac5-f29e-b20b9f4f002e"
      },
      "source": [
        "# Atualizamos os classificadores de sentimento para uma variável nominal\n",
        "test_ds[y_col] = test_ds[y_col].map({0: 'Negative', 1: 'Positive', 2: 'Neutral'})\n",
        "test_ds"
      ],
      "execution_count": null,
      "outputs": [
        {
          "output_type": "execute_result",
          "data": {
            "text/html": [
              "<div>\n",
              "<style scoped>\n",
              "    .dataframe tbody tr th:only-of-type {\n",
              "        vertical-align: middle;\n",
              "    }\n",
              "\n",
              "    .dataframe tbody tr th {\n",
              "        vertical-align: top;\n",
              "    }\n",
              "\n",
              "    .dataframe thead th {\n",
              "        text-align: right;\n",
              "    }\n",
              "</style>\n",
              "<table border=\"1\" class=\"dataframe\">\n",
              "  <thead>\n",
              "    <tr style=\"text-align: right;\">\n",
              "      <th></th>\n",
              "      <th>id</th>\n",
              "      <th>tweet_text</th>\n",
              "      <th>tweet_date</th>\n",
              "      <th>sentiment</th>\n",
              "      <th>query_used</th>\n",
              "    </tr>\n",
              "  </thead>\n",
              "  <tbody>\n",
              "    <tr>\n",
              "      <th>0</th>\n",
              "      <td>1029536486021099522</td>\n",
              "      <td>@Gazo1a Nossa! Muito obrigada :)</td>\n",
              "      <td>Wed Aug 15 01:13:20 +0000 2018</td>\n",
              "      <td>Positive</td>\n",
              "      <td>:)</td>\n",
              "    </tr>\n",
              "    <tr>\n",
              "      <th>1</th>\n",
              "      <td>1029536496368406528</td>\n",
              "      <td>@BerzGamer vai pa puta que te pariu :)</td>\n",
              "      <td>Wed Aug 15 01:13:23 +0000 2018</td>\n",
              "      <td>Positive</td>\n",
              "      <td>:)</td>\n",
              "    </tr>\n",
              "    <tr>\n",
              "      <th>2</th>\n",
              "      <td>1029536531655131137</td>\n",
              "      <td>QUER MAIS DESCONTOS? (14/08) ⭐⭐⭐⭐⭐ 🌐 Confira n...</td>\n",
              "      <td>Wed Aug 15 01:13:31 +0000 2018</td>\n",
              "      <td>Positive</td>\n",
              "      <td>:)</td>\n",
              "    </tr>\n",
              "    <tr>\n",
              "      <th>3</th>\n",
              "      <td>1029536560117678081</td>\n",
              "      <td>EU VOU PEGAR VCS, ME AJUDEM GALERA, PELO AMOR ...</td>\n",
              "      <td>Wed Aug 15 01:13:38 +0000 2018</td>\n",
              "      <td>Positive</td>\n",
              "      <td>:)</td>\n",
              "    </tr>\n",
              "    <tr>\n",
              "      <th>4</th>\n",
              "      <td>1029536605852377088</td>\n",
              "      <td>Estávamos em casa do Zé e eu estava a morrer d...</td>\n",
              "      <td>Wed Aug 15 01:13:49 +0000 2018</td>\n",
              "      <td>Positive</td>\n",
              "      <td>:)</td>\n",
              "    </tr>\n",
              "    <tr>\n",
              "      <th>...</th>\n",
              "      <td>...</td>\n",
              "      <td>...</td>\n",
              "      <td>...</td>\n",
              "      <td>...</td>\n",
              "      <td>...</td>\n",
              "    </tr>\n",
              "    <tr>\n",
              "      <th>4994</th>\n",
              "      <td>1025115924570034177</td>\n",
              "      <td>STF prorroga inquérito contra Temer por propin...</td>\n",
              "      <td>Thu Aug 02 20:27:36 +0000 2018</td>\n",
              "      <td>Neutral</td>\n",
              "      <td>exame</td>\n",
              "    </tr>\n",
              "    <tr>\n",
              "      <th>4995</th>\n",
              "      <td>1025116532358053888</td>\n",
              "      <td>O misterioso assassinato de três jornalistas r...</td>\n",
              "      <td>Thu Aug 02 20:30:01 +0000 2018</td>\n",
              "      <td>Neutral</td>\n",
              "      <td>g1</td>\n",
              "    </tr>\n",
              "    <tr>\n",
              "      <th>4996</th>\n",
              "      <td>1025117394262519808</td>\n",
              "      <td>Homem morre atropelado por PM na saída do Túne...</td>\n",
              "      <td>Thu Aug 02 20:33:27 +0000 2018</td>\n",
              "      <td>Neutral</td>\n",
              "      <td>jornaloglobo</td>\n",
              "    </tr>\n",
              "    <tr>\n",
              "      <th>4997</th>\n",
              "      <td>1025117768860033025</td>\n",
              "      <td>Ibope: TV é principal meio usado por eleitor p...</td>\n",
              "      <td>Thu Aug 02 20:34:56 +0000 2018</td>\n",
              "      <td>Neutral</td>\n",
              "      <td>exame</td>\n",
              "    </tr>\n",
              "    <tr>\n",
              "      <th>4998</th>\n",
              "      <td>1025118546899156993</td>\n",
              "      <td>Entre abril e junho, 317 pessoas foram mortas ...</td>\n",
              "      <td>Thu Aug 02 20:38:02 +0000 2018</td>\n",
              "      <td>Neutral</td>\n",
              "      <td>exame</td>\n",
              "    </tr>\n",
              "  </tbody>\n",
              "</table>\n",
              "<p>4999 rows × 5 columns</p>\n",
              "</div>"
            ],
            "text/plain": [
              "                       id  ...    query_used\n",
              "0     1029536486021099522  ...            :)\n",
              "1     1029536496368406528  ...            :)\n",
              "2     1029536531655131137  ...            :)\n",
              "3     1029536560117678081  ...            :)\n",
              "4     1029536605852377088  ...            :)\n",
              "...                   ...  ...           ...\n",
              "4994  1025115924570034177  ...         exame\n",
              "4995  1025116532358053888  ...            g1\n",
              "4996  1025117394262519808  ...  jornaloglobo\n",
              "4997  1025117768860033025  ...         exame\n",
              "4998  1025118546899156993  ...         exame\n",
              "\n",
              "[4999 rows x 5 columns]"
            ]
          },
          "metadata": {},
          "execution_count": 113
        }
      ]
    },
    {
      "cell_type": "code",
      "metadata": {
        "id": "KVwXfzOm_jax"
      },
      "source": [
        "X_test = test_ds.loc[:, X_col].values\n",
        "y_test = test_ds.loc[:, y_col].values"
      ],
      "execution_count": null,
      "outputs": []
    },
    {
      "cell_type": "markdown",
      "metadata": {
        "id": "LpXmbtly_jay"
      },
      "source": [
        "<h4>Análise exploratória do conjunto de teste</h4>"
      ]
    },
    {
      "cell_type": "code",
      "metadata": {
        "colab": {
          "base_uri": "https://localhost:8080/",
          "height": 206
        },
        "id": "h4VToP7i_jay",
        "outputId": "0b50a40b-fbfd-40db-d986-11b285c6ba0d"
      },
      "source": [
        "# test_ds.head(5)\n",
        "test_ds.sample(5)"
      ],
      "execution_count": null,
      "outputs": [
        {
          "output_type": "execute_result",
          "data": {
            "text/html": [
              "<div>\n",
              "<style scoped>\n",
              "    .dataframe tbody tr th:only-of-type {\n",
              "        vertical-align: middle;\n",
              "    }\n",
              "\n",
              "    .dataframe tbody tr th {\n",
              "        vertical-align: top;\n",
              "    }\n",
              "\n",
              "    .dataframe thead th {\n",
              "        text-align: right;\n",
              "    }\n",
              "</style>\n",
              "<table border=\"1\" class=\"dataframe\">\n",
              "  <thead>\n",
              "    <tr style=\"text-align: right;\">\n",
              "      <th></th>\n",
              "      <th>id</th>\n",
              "      <th>tweet_text</th>\n",
              "      <th>tweet_date</th>\n",
              "      <th>sentiment</th>\n",
              "      <th>query_used</th>\n",
              "    </tr>\n",
              "  </thead>\n",
              "  <tbody>\n",
              "    <tr>\n",
              "      <th>2773</th>\n",
              "      <td>1030508774581252096</td>\n",
              "      <td>@whogisl real :((( ainda bem q nunca é tarde p...</td>\n",
              "      <td>Fri Aug 17 17:36:52 +0000 2018</td>\n",
              "      <td>Negative</td>\n",
              "      <td>:(</td>\n",
              "    </tr>\n",
              "    <tr>\n",
              "      <th>1703</th>\n",
              "      <td>1030495386568458242</td>\n",
              "      <td>@bchartsnet tadinho do meu amor :(</td>\n",
              "      <td>Fri Aug 17 16:43:40 +0000 2018</td>\n",
              "      <td>Negative</td>\n",
              "      <td>:(</td>\n",
              "    </tr>\n",
              "    <tr>\n",
              "      <th>93</th>\n",
              "      <td>1029538189655126017</td>\n",
              "      <td>ai to muito feliz que eu to percebendo cada va...</td>\n",
              "      <td>Wed Aug 15 01:20:06 +0000 2018</td>\n",
              "      <td>Positive</td>\n",
              "      <td>:)</td>\n",
              "    </tr>\n",
              "    <tr>\n",
              "      <th>4476</th>\n",
              "      <td>1024711356958822406</td>\n",
              "      <td>Gêmeas se lançam em lados opostos da política ...</td>\n",
              "      <td>Wed Aug 01 17:40:00 +0000 2018</td>\n",
              "      <td>Neutral</td>\n",
              "      <td>jornaloglobo</td>\n",
              "    </tr>\n",
              "    <tr>\n",
              "      <th>4378</th>\n",
              "      <td>1024520096449011712</td>\n",
              "      <td>'Tinder das eleições': aplicativo vai indicar ...</td>\n",
              "      <td>Wed Aug 01 05:00:00 +0000 2018</td>\n",
              "      <td>Neutral</td>\n",
              "      <td>jornaloglobo</td>\n",
              "    </tr>\n",
              "  </tbody>\n",
              "</table>\n",
              "</div>"
            ],
            "text/plain": [
              "                       id  ...    query_used\n",
              "2773  1030508774581252096  ...            :(\n",
              "1703  1030495386568458242  ...            :(\n",
              "93    1029538189655126017  ...            :)\n",
              "4476  1024711356958822406  ...  jornaloglobo\n",
              "4378  1024520096449011712  ...  jornaloglobo\n",
              "\n",
              "[5 rows x 5 columns]"
            ]
          },
          "metadata": {},
          "execution_count": 115
        }
      ]
    },
    {
      "cell_type": "code",
      "metadata": {
        "colab": {
          "base_uri": "https://localhost:8080/",
          "height": 330
        },
        "id": "eXdI1owl_jaz",
        "outputId": "1a0a37a2-5a3e-44cf-a91f-5c0bec13294d"
      },
      "source": [
        "\n",
        "series = test_ds['sentiment'].value_counts()\n",
        "ax = series.plot(kind='bar', title='Número de observações de cada sentimento')\n",
        "ax.set_xlabel('Sentimento')\n",
        "ax.set_ylabel('Contagem')\n",
        "plt.show()"
      ],
      "execution_count": null,
      "outputs": [
        {
          "output_type": "display_data",
          "data": {
            "image/png": "[encoded data removed]",
            "text/plain": [
              "<Figure size 432x288 with 1 Axes>"
            ]
          },
          "metadata": {
            "needs_background": "light"
          }
        }
      ]
    },
    {
      "cell_type": "code",
      "metadata": {
        "colab": {
          "base_uri": "https://localhost:8080/",
          "height": 347
        },
        "id": "clKf_Pd__ja0",
        "outputId": "c2a0ca77-0774-4ae3-ada2-71cf613ced56"
      },
      "source": [
        "series = test_ds['query_used'].value_counts()\n",
        "\n",
        "ax = series.plot(kind='bar', title='Número de observaçoes de temas de consulta')\n",
        "ax.set_xlabel('Sentimento e temas')\n",
        "ax.set_ylabel('Contagem')\n",
        "plt.show()"
      ],
      "execution_count": null,
      "outputs": [
        {
          "output_type": "display_data",
          "data": {
            "image/png": "[encoded data removed]",
            "text/plain": [
              "<Figure size 432x288 with 1 Axes>"
            ]
          },
          "metadata": {
            "needs_background": "light"
          }
        }
      ]
    },
    {
      "cell_type": "code",
      "metadata": {
        "colab": {
          "base_uri": "https://localhost:8080/"
        },
        "id": "Z1FC8kKI_ja2",
        "outputId": "d063f291-1ba0-4abb-cdd5-775b0f15bc02"
      },
      "source": [
        "# checagem\n",
        "for i in range(0, 5):\n",
        "    print(y_test[i], ' => ', X_test[i])"
      ],
      "execution_count": null,
      "outputs": [
        {
          "output_type": "stream",
          "name": "stdout",
          "text": [
            "Positive  =>  @Gazo1a Nossa! Muito obrigada :)\n",
            "Positive  =>  @BerzGamer vai pa puta que te pariu :)\n",
            "Positive  =>  QUER MAIS DESCONTOS? (14/08) ⭐⭐⭐⭐⭐ 🌐 Confira no link ➔ https://t.co/jhh0Ttlpq3 | » Compartilhe! « Não encontrou a oferta ou cupom que procurava? Não se preocupe ;) criamos uma pagina com mais ofertas e cupons atualizada diariamente :) https://t.co/IgeeD0WmPf\n",
            "Positive  =>  EU VOU PEGAR VCS, ME AJUDEM GALERA, PELO AMOR DE BUTERA. :) #MMVAs #iHeartRadioMMVAs #FFSingleNoTears https://t.co/ghZMLqRFiV\n",
            "Positive  =>  Estávamos em casa do Zé e eu estava a morrer de sono, chego a casa e fico sem sono :))))\n"
          ]
        }
      ]
    },
    {
      "cell_type": "markdown",
      "metadata": {
        "id": "ZNClK6Pc_ja2"
      },
      "source": [
        "<h2>Preprocessamento de texto</h2>"
      ]
    },
    {
      "cell_type": "markdown",
      "metadata": {
        "id": "H-pPigD6_ja2"
      },
      "source": [
        "<h4>Planejamento</h4>\n",
        "<ul>\n",
        "  <li>Remoção de Ruído</li>\n",
        "    <ul>\n",
        "      <li>Remove urls do texto(http(s), www)</li>\n",
        "      <li>Remove padrão regex (hashtags, notações)</li>\n",
        "      <li>Preparar texto, substituir emots \":)) :) :D :(\" por positive_emoticon ou negative_emoticon ou neutral_emoticon tags</li>\n",
        "    </ul>\n",
        "  <li>Tokenização do texto </li>\n",
        "  <li>Padronização do objeto</li>\n",
        "  <li>Remoção de stopwords (remoção de ruído e redução de dimensão)</li>\n",
        "  <li>Normalização de itens lexicais</li>\n",
        "    <ul>\n",
        "      <li>Lematização - lemmatization (not implemented...)</li>\n",
        "      <li>Derivação - stemming(dimensionality reduction)</li>\n",
        "    </ul>\n",
        "</ul> "
      ]
    },
    {
      "cell_type": "markdown",
      "metadata": {
        "id": "6d7ptBfJ_ja3"
      },
      "source": [
        "<h4>Remoção de ruído</h4>"
      ]
    },
    {
      "cell_type": "markdown",
      "metadata": {
        "id": "blCE9dIK_ja5"
      },
      "source": [
        "Remove urls dos tweets (http(s), www)"
      ]
    },
    {
      "cell_type": "code",
      "metadata": {
        "id": "IzDjN6Wz_ja5"
      },
      "source": [
        "def _remove_url(data):\n",
        "    ls = []\n",
        "    words = ''\n",
        "    regexp1 = re.compile('http[s]?://(?:[a-zA-Z]|[0-9]|[$-_@.&+]|[!*\\(\\),]|(?:%[0-9a-fA-F][0-9a-fA-F]))+')\n",
        "    regexp2 = re.compile('www?.(?:[a-zA-Z]|[0-9]|[$-_@.&+]|[!*\\(\\),]|(?:%[0-9a-fA-F][0-9a-fA-F]))+')\n",
        "    \n",
        "    for line in data:\n",
        "        urls = regexp1.findall(line)\n",
        "\n",
        "        for u in urls:\n",
        "            line = line.replace(u, ' ')\n",
        "\n",
        "        urls = regexp2.findall(line)\n",
        "\n",
        "        for u in urls:\n",
        "            line = line.replace(u, ' ')\n",
        "            \n",
        "        ls.append(line)\n",
        "    return ls"
      ],
      "execution_count": null,
      "outputs": []
    },
    {
      "cell_type": "code",
      "metadata": {
        "id": "mVSeT6aM_ja5"
      },
      "source": [
        "X_train = _remove_url(X_train)\n",
        "X_test = _remove_url(X_test)"
      ],
      "execution_count": null,
      "outputs": []
    },
    {
      "cell_type": "markdown",
      "metadata": {
        "id": "f9C6rBaP_ja5"
      },
      "source": [
        "Remove padrões regex  (hashtags, notações) - Regex representa uma expressão regular imutável "
      ]
    },
    {
      "cell_type": "code",
      "metadata": {
        "id": "VZ8m8tGV_ja6"
      },
      "source": [
        "def _remove_regex(data, regex_pattern):\n",
        "    ls = []\n",
        "    words = ''\n",
        "    \n",
        "    for line in data:\n",
        "        matches = re.finditer(regex_pattern, line)\n",
        "        \n",
        "        for m in matches: \n",
        "            line = re.sub(m.group().strip(), '', line)\n",
        "\n",
        "        ls.append(line)\n",
        "\n",
        "    return ls"
      ],
      "execution_count": null,
      "outputs": []
    },
    {
      "cell_type": "code",
      "metadata": {
        "id": "HGyxJNoA_ja6"
      },
      "source": [
        "# hashtags\n",
        "regex_pattern = '#[\\w]*'\n",
        "X_train = _remove_regex(X_train, regex_pattern)\n",
        "X_test = _remove_regex(X_test, regex_pattern)"
      ],
      "execution_count": null,
      "outputs": []
    },
    {
      "cell_type": "code",
      "metadata": {
        "id": "v2-Q2hmn_ja6"
      },
      "source": [
        "# notaçoes\n",
        "regex_pattern = '@[\\w]*'\n",
        "X_train = _remove_regex(X_train, regex_pattern)\n",
        "X_test = _remove_regex(X_test, regex_pattern)"
      ],
      "execution_count": null,
      "outputs": []
    },
    {
      "cell_type": "code",
      "metadata": {
        "colab": {
          "base_uri": "https://localhost:8080/"
        },
        "id": "F2j9e4Lw_ja7",
        "outputId": "025fd5ab-3be3-47d3-bd64-1e242d51fc47"
      },
      "source": [
        "# checagem de dados\n",
        "for i in range(0, 5):\n",
        "    print(X_train[i])"
      ],
      "execution_count": null,
      "outputs": [
        {
          "output_type": "stream",
          "name": "stdout",
          "text": [
            " A pessoa certa para isso seria o vale e azevedo :)\n",
            " Para mim, é precisamente o contrário :) Vem a chuva e vem a boa disposição :)\n",
            "Vou fazer um video hoje... estou pensando em falar um pouco sobre o novo meta do CSGO e sobre a pagina   Alguem tem uma sugestao? Queria falar sobre algo do cenario nacional :D\n",
            "aaaaaaaa amei tanto essas polaroids, nem sei expressar o quanto eu to apaixonada de vdd✨💖🎈🎉🎊 espero que outras pessoas consigam ganhar também :)  \n",
            "Valoriza o coração do menininho que vc tem. Ele é diferente. O faça sorrir e ter certeza disso ❤️ — Eu valorizo todo mundo na minha vida, não vai ser diferente com ele :))  \n"
          ]
        }
      ]
    },
    {
      "cell_type": "markdown",
      "metadata": {
        "id": "SdUsWTos_ja8"
      },
      "source": [
        "Preparação do texto, substituição de  emoticons \":)) :) :D :(\" por positive_emoticon ou negative_emoticon ou neutral_emoticon"
      ]
    },
    {
      "cell_type": "code",
      "metadata": {
        "id": "KUUixc4f_ja8"
      },
      "source": [
        "def _replace_emoticons(data, emoticon_list):\n",
        "    ls = []\n",
        "\n",
        "    for line in data:\n",
        "        for exp in emoticon_list:\n",
        "            line = line.replace(exp, emoticon_list[exp])\n",
        "\n",
        "        ls.append(line)\n",
        "\n",
        "    return ls"
      ],
      "execution_count": null,
      "outputs": []
    },
    {
      "cell_type": "code",
      "metadata": {
        "id": "zf1q99a9_ja9"
      },
      "source": [
        "emoticon_list = {':))': 'positive_emoticon', ':)': 'positive_emoticon', ':D': 'positive_emoticon', ':(': 'negative_emoticon', ':((': 'negative_emoticon', '8)': 'neutral_emoticon'}"
      ],
      "execution_count": null,
      "outputs": []
    },
    {
      "cell_type": "code",
      "metadata": {
        "id": "vIP0df-Z_ja9"
      },
      "source": [
        "X_train = _replace_emoticons(X_train, emoticon_list)\n",
        "X_test = _replace_emoticons(X_test, emoticon_list)"
      ],
      "execution_count": null,
      "outputs": []
    },
    {
      "cell_type": "code",
      "metadata": {
        "colab": {
          "base_uri": "https://localhost:8080/"
        },
        "id": "QFWXXZp4_ja9",
        "outputId": "67f8c046-ced8-4049-f43c-deeb1f7e6a60"
      },
      "source": [
        "# checagem de dados\n",
        "for i in range(0, 5):\n",
        "    print(X_train[i])"
      ],
      "execution_count": null,
      "outputs": [
        {
          "output_type": "stream",
          "name": "stdout",
          "text": [
            " A pessoa certa para isso seria o vale e azevedo positive_emoticon\n",
            " Para mim, é precisamente o contrário positive_emoticon Vem a chuva e vem a boa disposição positive_emoticon\n",
            "Vou fazer um video hoje... estou pensando em falar um pouco sobre o novo meta do CSGO e sobre a pagina   Alguem tem uma sugestao? Queria falar sobre algo do cenario nacional positive_emoticon\n",
            "aaaaaaaa amei tanto essas polaroids, nem sei expressar o quanto eu to apaixonada de vdd✨💖🎈🎉🎊 espero que outras pessoas consigam ganhar também positive_emoticon  \n",
            "Valoriza o coração do menininho que vc tem. Ele é diferente. O faça sorrir e ter certeza disso ❤️ — Eu valorizo todo mundo na minha vida, não vai ser diferente com ele positive_emoticon  \n"
          ]
        }
      ]
    },
    {
      "cell_type": "markdown",
      "metadata": {
        "id": "HOjiqRxM_ja-"
      },
      "source": [
        "<h5 style=\"color:red;\">Note: We can remove or replace with tags some noisy words or special characters like ✨💖🎈🎉🎊❤️, but we need to evaluate if they are important to express some sentiment</h5>"
      ]
    },
    {
      "cell_type": "markdown",
      "metadata": {
        "id": "iK2jhALE_ja_"
      },
      "source": [
        "<h4>Tokenização do texto - </h4>"
      ]
    },
    {
      "cell_type": "code",
      "metadata": {
        "id": "Ob7uT2uk_ja_"
      },
      "source": [
        "#Separa os tweets pelas palavras, cada frase de um tweet transforma-se em uma string\n",
        "def _tokenize_text(data):\n",
        "    ls = []\n",
        "\n",
        "    for line in data:\n",
        "        tokens = wordpunct_tokenize(line)\n",
        "        ls.append(tokens)\n",
        "\n",
        "    return ls"
      ],
      "execution_count": null,
      "outputs": []
    },
    {
      "cell_type": "code",
      "metadata": {
        "id": "MdFZSBlA_jbA"
      },
      "source": [
        "X_train_tokens = _tokenize_text(X_train)\n",
        "X_test_tokens = _tokenize_text(X_test)"
      ],
      "execution_count": null,
      "outputs": []
    },
    {
      "cell_type": "code",
      "metadata": {
        "colab": {
          "base_uri": "https://localhost:8080/"
        },
        "id": "Y_8vbFlx_jbA",
        "outputId": "144cc051-7249-4852-b3ae-1e8873240eaf"
      },
      "source": [
        "# check data\n",
        "for i in range(0, 5):\n",
        "    print(X_train_tokens[i])"
      ],
      "execution_count": null,
      "outputs": [
        {
          "output_type": "stream",
          "name": "stdout",
          "text": [
            "['A', 'pessoa', 'certa', 'para', 'isso', 'seria', 'o', 'vale', 'e', 'azevedo', 'positive_emoticon']\n",
            "['Para', 'mim', ',', 'é', 'precisamente', 'o', 'contrário', 'positive_emoticon', 'Vem', 'a', 'chuva', 'e', 'vem', 'a', 'boa', 'disposição', 'positive_emoticon']\n",
            "['Vou', 'fazer', 'um', 'video', 'hoje', '...', 'estou', 'pensando', 'em', 'falar', 'um', 'pouco', 'sobre', 'o', 'novo', 'meta', 'do', 'CSGO', 'e', 'sobre', 'a', 'pagina', 'Alguem', 'tem', 'uma', 'sugestao', '?', 'Queria', 'falar', 'sobre', 'algo', 'do', 'cenario', 'nacional', 'positive_emoticon']\n",
            "['aaaaaaaa', 'amei', 'tanto', 'essas', 'polaroids', ',', 'nem', 'sei', 'expressar', 'o', 'quanto', 'eu', 'to', 'apaixonada', 'de', 'vdd', '✨💖🎈🎉🎊', 'espero', 'que', 'outras', 'pessoas', 'consigam', 'ganhar', 'também', 'positive_emoticon']\n",
            "['Valoriza', 'o', 'coração', 'do', 'menininho', 'que', 'vc', 'tem', '.', 'Ele', 'é', 'diferente', '.', 'O', 'faça', 'sorrir', 'e', 'ter', 'certeza', 'disso', '❤️', '—', 'Eu', 'valorizo', 'todo', 'mundo', 'na', 'minha', 'vida', ',', 'não', 'vai', 'ser', 'diferente', 'com', 'ele', 'positive_emoticon']\n"
          ]
        }
      ]
    },
    {
      "cell_type": "markdown",
      "metadata": {
        "id": "34NhFX08_jbA"
      },
      "source": [
        "<h4>Padronização de objetos</h4>"
      ]
    },
    {
      "cell_type": "code",
      "metadata": {
        "id": "yDtKpK1G_jbB"
      },
      "source": [
        "def _apply_standardization(tokens, std_list):\n",
        "    ls = []\n",
        "\n",
        "    for tk_line in tokens:\n",
        "        new_tokens = []\n",
        "        \n",
        "        for word in tk_line:\n",
        "            if word.lower() in std_list:\n",
        "                word = std_list[word.lower()]\n",
        "                \n",
        "            new_tokens.append(word) \n",
        "            \n",
        "        ls.append(new_tokens)\n",
        "\n",
        "    return ls"
      ],
      "execution_count": null,
      "outputs": []
    },
    {
      "cell_type": "code",
      "metadata": {
        "id": "eTs9hLjJ_jbB"
      },
      "source": [
        "# lista de padronizacao\n",
        "std_list = {'eh': 'é', 'vc': 'você', 'vcs': 'vocês','tb': 'também', 'tbm': 'também', 'obg': 'obrigado', 'gnt': 'gente', 'q': 'que', 'n': 'não', 'cmg': 'comigo', 'p': 'para', 'ta': 'está', 'to': 'estou', 'vdd': 'verdade'}"
      ],
      "execution_count": null,
      "outputs": []
    },
    {
      "cell_type": "code",
      "metadata": {
        "colab": {
          "base_uri": "https://localhost:8080/"
        },
        "id": "J9qk6WQW_jbB",
        "outputId": "3c82d51d-5bba-4854-c480-39f905ca45f0"
      },
      "source": [
        "# check data\n",
        "print(X_train[4], X_train[35008])"
      ],
      "execution_count": null,
      "outputs": [
        {
          "output_type": "stream",
          "name": "stdout",
          "text": [
            "Valoriza o coração do menininho que vc tem. Ele é diferente. O faça sorrir e ter certeza disso ❤️ — Eu valorizo todo mundo na minha vida, não vai ser diferente com ele positive_emoticon    Infelizmente isso acontece cmg tb.. negative_emoticon\n"
          ]
        }
      ]
    },
    {
      "cell_type": "code",
      "metadata": {
        "id": "__j02oxP_jbB"
      },
      "source": [
        "X_train_tokens = _apply_standardization(X_train_tokens, std_list)\n",
        "X_test_tokens = _apply_standardization(X_test_tokens, std_list)"
      ],
      "execution_count": null,
      "outputs": []
    },
    {
      "cell_type": "code",
      "metadata": {
        "colab": {
          "base_uri": "https://localhost:8080/"
        },
        "id": "vrpIBdhr_jbC",
        "outputId": "ee10d0eb-14e7-4505-c1a9-1777d56de099"
      },
      "source": [
        "# check data\n",
        "print(X_train_tokens[4], X_train_tokens[35008])"
      ],
      "execution_count": null,
      "outputs": [
        {
          "output_type": "stream",
          "name": "stdout",
          "text": [
            "['Valoriza', 'o', 'coração', 'do', 'menininho', 'que', 'você', 'tem', '.', 'Ele', 'é', 'diferente', '.', 'O', 'faça', 'sorrir', 'e', 'ter', 'certeza', 'disso', '❤️', '—', 'Eu', 'valorizo', 'todo', 'mundo', 'na', 'minha', 'vida', ',', 'não', 'vai', 'ser', 'diferente', 'com', 'ele', 'positive_emoticon'] ['Infelizmente', 'isso', 'acontece', 'comigo', 'também', '..', 'negative_emoticon']\n"
          ]
        }
      ]
    },
    {
      "cell_type": "code",
      "metadata": {
        "colab": {
          "base_uri": "https://localhost:8080/"
        },
        "id": "CfV6LfZ7_jbC",
        "outputId": "df616440-4390-4d3f-b5d1-df384b60415a"
      },
      "source": [
        "print(X_test_tokens[0:5])"
      ],
      "execution_count": null,
      "outputs": [
        {
          "output_type": "stream",
          "name": "stdout",
          "text": [
            "[['Nossa', '!', 'Muito', 'obrigada', 'positive_emoticon'], ['vai', 'pa', 'puta', 'que', 'te', 'pariu', 'positive_emoticon'], ['QUER', 'MAIS', 'DESCONTOS', '?', '(', '14', '/', '0neutral_emoticon', '⭐⭐⭐⭐⭐', '🌐', 'Confira', 'no', 'link', '➔', '|', '»', 'Compartilhe', '!', '«', 'Não', 'encontrou', 'a', 'oferta', 'ou', 'cupom', 'que', 'procurava', '?', 'Não', 'se', 'preocupe', ';)', 'criamos', 'uma', 'pagina', 'com', 'mais', 'ofertas', 'e', 'cupons', 'atualizada', 'diariamente', 'positive_emoticon'], ['EU', 'VOU', 'PEGAR', 'vocês', ',', 'ME', 'AJUDEM', 'GALERA', ',', 'PELO', 'AMOR', 'DE', 'BUTERA', '.', 'positive_emoticon'], ['Estávamos', 'em', 'casa', 'do', 'Zé', 'e', 'eu', 'estava', 'a', 'morrer', 'de', 'sono', ',', 'chego', 'a', 'casa', 'e', 'fico', 'sem', 'sono', 'positive_emoticon', '))']]\n"
          ]
        }
      ]
    },
    {
      "cell_type": "markdown",
      "metadata": {
        "id": "awGDAHgm_jbD"
      },
      "source": [
        "<h4>Remoção de stopwords (remoção de ruído e redução de dimensão)</h4>"
      ]
    },
    {
      "cell_type": "markdown",
      "metadata": {
        "id": "BoZbAZU6_jbD"
      },
      "source": [
        "Stopwords são palavras comumente usadas na linguagem que não necessariamente adicionam significado a sentença, alguns exemplos são "
      ]
    },
    {
      "cell_type": "code",
      "metadata": {
        "id": "V6HITwRl_jbE"
      },
      "source": [
        "def _remove_stopwords(tokens, stopword_list):\n",
        "    ls = []\n",
        "\n",
        "    for tk_line in tokens:\n",
        "        new_tokens = []\n",
        "        \n",
        "        for word in tk_line:\n",
        "            if word.lower() not in stopword_list:\n",
        "                new_tokens.append(word) \n",
        "            \n",
        "        ls.append(new_tokens)\n",
        "        \n",
        "    return ls"
      ],
      "execution_count": null,
      "outputs": []
    },
    {
      "cell_type": "code",
      "metadata": {
        "id": "-xwApkCE_jbE"
      },
      "source": [
        "stopword_list = []"
      ],
      "execution_count": null,
      "outputs": []
    },
    {
      "cell_type": "code",
      "metadata": {
        "colab": {
          "base_uri": "https://localhost:8080/"
        },
        "id": "5D5bPYLY_jbE",
        "outputId": "9937a385-8171-4c58-812d-37171cb62a42"
      },
      "source": [
        "# get nltk portuguese stopwords\n",
        "nltk.download('stopwords')\n",
        "\n",
        "\n",
        "nltk_stopwords = nltk.corpus.stopwords.words('portuguese')\n"
      ],
      "execution_count": null,
      "outputs": [
        {
          "output_type": "stream",
          "name": "stdout",
          "text": [
            "[nltk_data] Downloading package stopwords to /root/nltk_data...\n",
            "[nltk_data]   Package stopwords is already up-to-date!\n"
          ]
        }
      ]
    },
    {
      "cell_type": "code",
      "metadata": {
        "colab": {
          "base_uri": "https://localhost:8080/"
        },
        "id": "YHLcfdfT_jbF",
        "outputId": "8d6aa884-ae16-43d7-8a3e-a0f5a4f14b01"
      },
      "source": [
        "# get custom stopwords from a file (pt-br). You can create your own database of stopwords on a text file, mongodb, so on...\n",
        "df = pd.DataFrame(nltk_stopwords)\n",
        "print(df.head(10))"
      ],
      "execution_count": null,
      "outputs": [
        {
          "output_type": "stream",
          "name": "stdout",
          "text": [
            "     0\n",
            "0   de\n",
            "1    a\n",
            "2    o\n",
            "3  que\n",
            "4    e\n",
            "5    é\n",
            "6   do\n",
            "7   da\n",
            "8   em\n",
            "9   um\n"
          ]
        }
      ]
    },
    {
      "cell_type": "code",
      "metadata": {
        "id": "2ZNoMDBm_jbF"
      },
      "source": [
        "# list of array\n",
        "custom_stopwords = df.values.tolist()\n",
        "# transform list of array to list\n",
        "custom_stopwords = [s[0] for s in custom_stopwords]"
      ],
      "execution_count": null,
      "outputs": []
    },
    {
      "cell_type": "code",
      "metadata": {
        "id": "dYRH724X_jbF"
      },
      "source": [
        "# You can also add stopwords manually instead of loading from the database. Generally, we add stopwords that belong to this context.\n",
        "stopword_list.append('é')\n",
        "stopword_list.append('vou')\n",
        "stopword_list.append('que')\n",
        "stopword_list.append('tão')\n",
        "stopword_list.append('...')\n",
        "stopword_list.append('«')\n",
        "stopword_list.append('➔')\n",
        "stopword_list.append('|')\n",
        "stopword_list.append('»')\n",
        "stopword_list.append('uai')\n",
        "stopword_list.append(\"[\")\n",
        "stopword_list.append(\"]\")\n",
        "stopword_list.append(\"!\")\n",
        "stopword_list.append(\":\")\n",
        "stopword_list.append(\".\")\n",
        "stopword_list.append(\"?\")\n",
        "stopword_list.append(\"(\")\n",
        "stopword_list.append(\")\")\n",
        "stopword_list.append(\";\")\n",
        "stopword_list.append(\",\")\n",
        "stopword_list.append(\"-\")\n",
        "stopword_list.append(\"'\")\n"
      ],
      "execution_count": null,
      "outputs": []
    },
    {
      "cell_type": "markdown",
      "metadata": {
        "id": "QwQMfjsF0PbX"
      },
      "source": [
        "Além das stopwords, adicionamos na lista também alguns outros caracteres como pontuações (\"-\", \"`\", \",\"  ) e caracteres especiais (\"$\", \"&\" ) que não expressam sentimentos e portanto não são relevantes para tal análise\n",
        "\n",
        "\n"
      ]
    },
    {
      "cell_type": "code",
      "metadata": {
        "id": "Rb8dFLVN_jbH"
      },
      "source": [
        "# junta todas as stopwords\n",
        "stopword_list.extend(nltk_stopwords)\n",
        "#stopword_list.extend(custom_stopwords)"
      ],
      "execution_count": null,
      "outputs": []
    },
    {
      "cell_type": "code",
      "metadata": {
        "id": "9slnTlNB_jbH"
      },
      "source": [
        "# remove duplicatas  (lista unica)\n",
        "stopword_list = list(set(stopword_list))"
      ],
      "execution_count": null,
      "outputs": []
    },
    {
      "cell_type": "code",
      "metadata": {
        "id": "09-P5-GO_jbH"
      },
      "source": [
        "X_train_tokens = _remove_stopwords(X_train_tokens, stopword_list)\n",
        "X_test_tokens = _remove_stopwords(X_test_tokens, stopword_list)"
      ],
      "execution_count": null,
      "outputs": []
    },
    {
      "cell_type": "code",
      "metadata": {
        "colab": {
          "base_uri": "https://localhost:8080/"
        },
        "id": "uX0LtU0e_jbI",
        "outputId": "c3c1f1bf-56de-41cc-ab66-a76f36fd1724"
      },
      "source": [
        "# check data\n",
        "for i in range(0, 5):\n",
        "    print(X_train_tokens[i])"
      ],
      "execution_count": null,
      "outputs": [
        {
          "output_type": "stream",
          "name": "stdout",
          "text": [
            "['pessoa', 'certa', 'vale', 'azevedo', 'positive_emoticon']\n",
            "['mim', 'precisamente', 'contrário', 'positive_emoticon', 'Vem', 'chuva', 'vem', 'boa', 'disposição', 'positive_emoticon']\n",
            "['fazer', 'video', 'hoje', 'pensando', 'falar', 'pouco', 'sobre', 'novo', 'meta', 'CSGO', 'sobre', 'pagina', 'Alguem', 'sugestao', 'Queria', 'falar', 'sobre', 'algo', 'cenario', 'nacional', 'positive_emoticon']\n",
            "['aaaaaaaa', 'amei', 'tanto', 'polaroids', 'sei', 'expressar', 'quanto', 'apaixonada', 'verdade', '✨💖🎈🎉🎊', 'espero', 'outras', 'pessoas', 'consigam', 'ganhar', 'positive_emoticon']\n",
            "['Valoriza', 'coração', 'menininho', 'diferente', 'faça', 'sorrir', 'ter', 'certeza', 'disso', '❤️', '—', 'valorizo', 'todo', 'mundo', 'vida', 'vai', 'ser', 'diferente', 'positive_emoticon']\n"
          ]
        }
      ]
    },
    {
      "cell_type": "markdown",
      "metadata": {
        "id": "IOhrywIx_jbI"
      },
      "source": [
        "<h4>Normalização de itens lexicais</h4>"
      ]
    },
    {
      "cell_type": "markdown",
      "metadata": {
        "id": "tdDWQAYv_jbJ"
      },
      "source": [
        "Stemming (dimensionality reduction)"
      ]
    },
    {
      "cell_type": "code",
      "metadata": {
        "id": "RZi3Ay08_jbJ"
      },
      "source": [
        "def _apply_stemmer(tokens):\n",
        "    ls = []\n",
        "    stemmer = nltk.stem.RSLPStemmer()\n",
        "\n",
        "    for tk_line in tokens:\n",
        "        new_tokens = []\n",
        "        \n",
        "        for word in tk_line:\n",
        "            word = str(stemmer.stem(word))\n",
        "            new_tokens.append(word) \n",
        "            \n",
        "        ls.append(new_tokens)\n",
        "        \n",
        "    return ls"
      ],
      "execution_count": null,
      "outputs": []
    },
    {
      "cell_type": "code",
      "metadata": {
        "colab": {
          "base_uri": "https://localhost:8080/"
        },
        "id": "EwIpCKgL_jbK",
        "outputId": "6ebe95b5-6611-4d63-d2b4-c05beda4765a"
      },
      "source": [
        "nltk.download('rslp')\n",
        "\n",
        "X_train_tokens = _apply_stemmer(X_train_tokens)\n",
        "X_test_tokens = _apply_stemmer(X_test_tokens)"
      ],
      "execution_count": null,
      "outputs": [
        {
          "output_type": "stream",
          "name": "stdout",
          "text": [
            "[nltk_data] Downloading package rslp to /root/nltk_data...\n",
            "[nltk_data]   Package rslp is already up-to-date!\n"
          ]
        }
      ]
    },
    {
      "cell_type": "code",
      "metadata": {
        "colab": {
          "base_uri": "https://localhost:8080/"
        },
        "id": "_Qk588YV_jbK",
        "outputId": "9a4e4e10-7949-4819-b37f-c1ea53c02dc2"
      },
      "source": [
        "# check data\n",
        "for i in range(0, 5):\n",
        "    print(X_train_tokens[i])"
      ],
      "execution_count": null,
      "outputs": [
        {
          "output_type": "stream",
          "name": "stdout",
          "text": [
            "['pesso', 'cert', 'val', 'azeved', 'positive_emoticon']\n",
            "['mim', 'precis', 'contr', 'positive_emoticon', 'vem', 'chuv', 'vem', 'boa', 'dispos', 'positive_emoticon']\n",
            "['faz', 'vide', 'hoj', 'pens', 'fal', 'pouc', 'sobr', 'nov', 'met', 'csg', 'sobr', 'pagin', 'algu', 'sugesta', 'quer', 'fal', 'sobr', 'alg', 'cenari', 'nacion', 'positive_emoticon']\n",
            "['aaaaaaa', 'ame', 'tant', 'polaroid', 'sei', 'express', 'quant', 'apaixon', 'verdad', '✨💖🎈🎉🎊', 'esper', 'outr', 'pesso', 'consig', 'ganh', 'positive_emoticon']\n",
            "['valoriz', 'coraçã', 'menin', 'difer', 'faç', 'sorr', 'ter', 'cert', 'diss', '❤️', '—', 'valoriz', 'tod', 'mund', 'vid', 'vai', 'ser', 'difer', 'positive_emoticon']\n"
          ]
        }
      ]
    },
    {
      "cell_type": "markdown",
      "metadata": {
        "id": "XqfGY1F5_jbK"
      },
      "source": [
        "<h2>Análise exploratória das palavras</h2>"
      ]
    },
    {
      "cell_type": "markdown",
      "metadata": {
        "id": "J6uR6l66_jbL"
      },
      "source": [
        "<h4>Nuvem de palavras</h4>"
      ]
    },
    {
      "cell_type": "code",
      "metadata": {
        "id": "U1En3MAt_jbL"
      },
      "source": [
        "def _get_text_cloud(tokens):\n",
        "    text = ''\n",
        "\n",
        "    for tk_line in tokens:\n",
        "        new_tokens = []\n",
        "        \n",
        "        for word in tk_line:\n",
        "            text += word + ' '\n",
        "        \n",
        "    return text"
      ],
      "execution_count": null,
      "outputs": []
    },
    {
      "cell_type": "code",
      "metadata": {
        "colab": {
          "base_uri": "https://localhost:8080/",
          "height": 345
        },
        "id": "RqrGOtaa_jbL",
        "outputId": "d721a1eb-3361-4c71-99f1-66ad58dfe08d"
      },
      "source": [
        "# printa WordCloud do ocnjunto de treino\n",
        "sample_train = random.sample(X_train_tokens, 10000)\n",
        "text_cloud = _get_text_cloud(sample_train)\n",
        "\n",
        "word_cloud = WordCloud(max_font_size = 100, width = 1520, height = 535)\n",
        "word_cloud.generate(text_cloud)\n",
        "plt.figure(figsize = (16, 9))\n",
        "plt.imshow(word_cloud)\n",
        "plt.axis('off')\n",
        "plt.show()"
      ],
      "execution_count": null,
      "outputs": [
        {
          "output_type": "display_data",
          "data": {
            "image/png": "[encoded data removed]",
            "text/plain": [
              "<Figure size 1152x648 with 1 Axes>"
            ]
          },
          "metadata": {
            "needs_background": "light"
          }
        }
      ]
    },
    {
      "cell_type": "code",
      "metadata": {
        "colab": {
          "base_uri": "https://localhost:8080/",
          "height": 345
        },
        "id": "g8jqI9_Z_jbM",
        "outputId": "c4ee00be-d778-47f1-805b-32ebd5cebfd1"
      },
      "source": [
        "# printa WordCloud do conjunto de teste\n",
        "sample_test = random.sample(X_test_tokens, len(X_test_tokens))\n",
        "text_cloud = _get_text_cloud(sample_test)\n",
        "\n",
        "word_cloud = WordCloud(max_font_size = 100, width = 1520, height = 535)\n",
        "word_cloud.generate(text_cloud)\n",
        "plt.figure(figsize = (16, 9))\n",
        "plt.imshow(word_cloud)\n",
        "plt.axis('off')\n",
        "plt.show()"
      ],
      "execution_count": null,
      "outputs": [
        {
          "output_type": "display_data",
          "data": {
            "image/png": "[encoded data removed]",
            "text/plain": [
              "<Figure size 1152x648 with 1 Axes>"
            ]
          },
          "metadata": {
            "needs_background": "light"
          }
        }
      ]
    },
    {
      "cell_type": "markdown",
      "metadata": {
        "id": "pQWv6pP4_jbM"
      },
      "source": [
        "<h4>Distribuição de frequência</h4>"
      ]
    },
    {
      "cell_type": "code",
      "metadata": {
        "id": "00x01CKh_jbN"
      },
      "source": [
        "def _get_freq_dist_list(tokens):\n",
        "    ls = []\n",
        "\n",
        "    for tk_line in tokens:\n",
        "        for word in tk_line:\n",
        "            ls.append(word)\n",
        "\n",
        "    return ls"
      ],
      "execution_count": null,
      "outputs": []
    },
    {
      "cell_type": "code",
      "metadata": {
        "colab": {
          "base_uri": "https://localhost:8080/"
        },
        "id": "jjl8Ht98_jbN",
        "outputId": "637fe3fd-c457-40a5-c43c-f54a8056bb70"
      },
      "source": [
        "# dist. de frequencia do conjunto de treino\n",
        "fd_list = _get_freq_dist_list(X_train_tokens)\n",
        "fdist = FreqDist(fd_list)\n",
        "print(fdist)"
      ],
      "execution_count": null,
      "outputs": [
        {
          "output_type": "stream",
          "name": "stdout",
          "text": [
            "<FreqDist with 36914 samples and 869061 outcomes>\n"
          ]
        }
      ]
    },
    {
      "cell_type": "code",
      "metadata": {
        "colab": {
          "base_uri": "https://localhost:8080/"
        },
        "id": "IoMQdw-j_jbN",
        "outputId": "03a9b230-f26a-498b-9023-3fa13e19fcdf"
      },
      "source": [
        "# palavras mais comuns\n",
        "most_common = fdist.most_common(25)\n",
        "print(most_common)"
      ],
      "execution_count": null,
      "outputs": [
        {
          "output_type": "stream",
          "name": "stdout",
          "text": [
            "[('negative_emoticon', 33232), ('positive_emoticon', 31038), ('pra', 7604), ('quer', 5631), ('dia', 5121), ('faz', 4503), ('vai', 4228), ('\"', 3926), ('diz', 3853), ('tod', 3809), ('fic', 3689), ('ser', 3586), ('bolsonar', 3442), ('pod', 3398), ('&', 3249), ('fal', 3207), ('bem', 3153), ('ter', 2854), ('gt', 2832), ('bom', 2803), ('vot', 2792), ('ach', 2664), ('tá', 2619), ('tud', 2573), ('gent', 2517)]\n"
          ]
        }
      ]
    },
    {
      "cell_type": "code",
      "metadata": {
        "colab": {
          "base_uri": "https://localhost:8080/"
        },
        "id": "bJz_QDNo_jbO",
        "outputId": "89d8074e-e4f5-497e-dcde-bd8f211e446d"
      },
      "source": [
        "# palavras que menos apareceram\n",
        "most_uncommon = fdist.hapaxes()\n",
        "print(most_uncommon[0:30])"
      ],
      "execution_count": null,
      "outputs": [
        {
          "output_type": "stream",
          "name": "stdout",
          "text": [
            "['sugesta', '✨💖🎈🎉🎊', 'ksoaksosk', 'centope', 'carril', 'fotogên', 'monlevad', 'feriad', ':’’)', 'naisuuu', 'eheheheheheh', 'apalp', 'paragraf', 'taxímetr', 'biray', 'ezîz', 'silavên', 'bikim', 'yasmyn', 'cabelooo', 'hextec', 'gontij', 'podiaa', 'piorrr', 'ngb', 'tác', 'armad', 'goe', 'dechav', 'αmig']\n"
          ]
        }
      ]
    },
    {
      "cell_type": "code",
      "metadata": {
        "colab": {
          "base_uri": "https://localhost:8080/",
          "height": 36
        },
        "id": "eapKHypN_jbP",
        "outputId": "a488a9c2-989a-4f2c-db28-13bc8dc099ce"
      },
      "source": [
        "# palavra que mais apareceu\n",
        "fdist.max()"
      ],
      "execution_count": null,
      "outputs": [
        {
          "output_type": "execute_result",
          "data": {
            "application/vnd.google.colaboratory.intrinsic+json": {
              "type": "string"
            },
            "text/plain": [
              "'negative_emoticon'"
            ]
          },
          "metadata": {},
          "execution_count": 158
        }
      ]
    },
    {
      "cell_type": "code",
      "metadata": {
        "colab": {
          "base_uri": "https://localhost:8080/",
          "height": 380
        },
        "id": "CZm63Pzv_jbP",
        "outputId": "84e8b672-856f-4796-97b1-a87e7cced4e4"
      },
      "source": [
        "# contagem das palavras mais comuns\n",
        "series = pd.Series(data=[v for k, v in most_common], index=[k for k, v in most_common], name='')\n",
        "ax = series.plot(kind='bar', title='Frequency Distribution')\n",
        "ax.set_xlabel('Word')\n",
        "ax.set_ylabel('Count')\n",
        "plt.show()"
      ],
      "execution_count": null,
      "outputs": [
        {
          "output_type": "display_data",
          "data": {
            "image/png": "[encoded data removed]",
            "text/plain": [
              "<Figure size 432x288 with 1 Axes>"
            ]
          },
          "metadata": {
            "needs_background": "light"
          }
        }
      ]
    },
    {
      "cell_type": "markdown",
      "metadata": {
        "id": "65rXxaDV_jbP"
      },
      "source": [
        "Checando quantas vezes a palavra \"brasil\" aparece"
      ]
    },
    {
      "cell_type": "code",
      "metadata": {
        "colab": {
          "base_uri": "https://localhost:8080/"
        },
        "id": "UCzB6a0r_jbQ",
        "outputId": "15ff1b1d-8c28-4f8b-fd0f-4ec2a9cc56b0"
      },
      "source": [
        "# numero de vezes\n",
        "fdist.get('brasil')"
      ],
      "execution_count": null,
      "outputs": [
        {
          "output_type": "execute_result",
          "data": {
            "text/plain": [
              "2453"
            ]
          },
          "metadata": {},
          "execution_count": 160
        }
      ]
    },
    {
      "cell_type": "code",
      "metadata": {
        "colab": {
          "base_uri": "https://localhost:8080/"
        },
        "id": "VvKKcbNA_jbQ",
        "outputId": "4ceee744-1cdf-4a8a-ce73-e5134cbc8545"
      },
      "source": [
        "# Freq = Numero de ocorrencias / total de palavras\n",
        "fdist.freq('brasil') # 2453 / 984823"
      ],
      "execution_count": null,
      "outputs": [
        {
          "output_type": "execute_result",
          "data": {
            "text/plain": [
              "0.0028225866768845915"
            ]
          },
          "metadata": {},
          "execution_count": 161
        }
      ]
    },
    {
      "cell_type": "markdown",
      "metadata": {
        "id": "TDISBPzi_jbQ"
      },
      "source": [
        "<h2>Bag-of-Words</h2>\n",
        "O modelo saco de palavras (\"bag of words\") é um modelo simples de classificação de palavras, que consiste em quantificar quantas vezes uma determinada palavra aparece no texto."
      ]
    },
    {
      "cell_type": "markdown",
      "metadata": {
        "id": "mPxtT_Hy_jbR"
      },
      "source": [
        "<h4>Preparação do dataset</h4>\n",
        "Primeiro precisamos desfazer a tokenização do texto"
      ]
    },
    {
      "cell_type": "code",
      "metadata": {
        "id": "juBRrTON_jbS"
      },
      "source": [
        "def _untokenize_text(tokens):\n",
        "    ls = []\n",
        "\n",
        "    for tk_line in tokens:\n",
        "        new_line = ''\n",
        "        \n",
        "        for word in tk_line:\n",
        "            new_line += word + ' '\n",
        "            \n",
        "        ls.append(new_line)\n",
        "        \n",
        "    return ls"
      ],
      "execution_count": null,
      "outputs": []
    },
    {
      "cell_type": "code",
      "metadata": {
        "id": "E0DT1ngx_jbT"
      },
      "source": [
        "X_train = _untokenize_text(X_train_tokens)\n",
        "X_test = _untokenize_text(X_test_tokens)"
      ],
      "execution_count": null,
      "outputs": []
    },
    {
      "cell_type": "code",
      "metadata": {
        "colab": {
          "base_uri": "https://localhost:8080/"
        },
        "id": "ynWn4fEZ_jbU",
        "outputId": "7d5c3ab1-6250-4463-9071-b73291878d03"
      },
      "source": [
        "# check data\n",
        "for i in range(0, 5):\n",
        "    print(X_train[i])"
      ],
      "execution_count": null,
      "outputs": [
        {
          "output_type": "stream",
          "name": "stdout",
          "text": [
            "pesso cert val azeved positive_emoticon \n",
            "mim precis contr positive_emoticon vem chuv vem boa dispos positive_emoticon \n",
            "faz vide hoj pens fal pouc sobr nov met csg sobr pagin algu sugesta quer fal sobr alg cenari nacion positive_emoticon \n",
            "aaaaaaa ame tant polaroid sei express quant apaixon verdad ✨💖🎈🎉🎊 esper outr pesso consig ganh positive_emoticon \n",
            "valoriz coraçã menin difer faç sorr ter cert diss ❤️ — valoriz tod mund vid vai ser difer positive_emoticon \n"
          ]
        }
      ]
    },
    {
      "cell_type": "markdown",
      "metadata": {
        "id": "oimowFeJ_jbV"
      },
      "source": [
        "<h4>Extração de características do texto</h4>\n",
        "Primeiro criamos um objeto contendo cada palavra do texto e o número de vezes em que ela ocorre.\n",
        "\n",
        "<br/>\n",
        " "
      ]
    },
    {
      "cell_type": "code",
      "metadata": {
        "id": "mcknvrd7_jbV"
      },
      "source": [
        "# criar objeto vetor\n",
        "vectorizer = CountVectorizer()\n",
        "X_train_vect = vectorizer.fit_transform(X_train)"
      ],
      "execution_count": null,
      "outputs": []
    },
    {
      "cell_type": "code",
      "metadata": {
        "colab": {
          "base_uri": "https://localhost:8080/"
        },
        "id": "yvJkvnro_jbV",
        "outputId": "e8af9232-24c9-4671-a01f-ed3fe7e9b6a7"
      },
      "source": [
        "print(X_train_vect.shape)"
      ],
      "execution_count": null,
      "outputs": [
        {
          "output_type": "stream",
          "name": "stdout",
          "text": [
            "(100000, 33647)\n"
          ]
        }
      ]
    },
    {
      "cell_type": "code",
      "metadata": {
        "colab": {
          "base_uri": "https://localhost:8080/"
        },
        "id": "A__jSrjO_jbW",
        "outputId": "e6669323-2b3b-4ad4-cf13-98e565acc8e4"
      },
      "source": [
        "print(vectorizer.vocabulary_.get(u'pedro'))"
      ],
      "execution_count": null,
      "outputs": [
        {
          "output_type": "stream",
          "name": "stdout",
          "text": [
            "None\n"
          ]
        }
      ]
    },
    {
      "cell_type": "markdown",
      "source": [
        "Que pena!"
      ],
      "metadata": {
        "id": "RWJAbf49mZao"
      }
    },
    {
      "cell_type": "code",
      "source": [
        "print(vectorizer.vocabulary_.get(u'brasil'))"
      ],
      "metadata": {
        "colab": {
          "base_uri": "https://localhost:8080/"
        },
        "id": "f3_e2LLxmd8P",
        "outputId": "4c6fbf1b-407d-472b-9ce6-14a4fcf0ee0b"
      },
      "execution_count": null,
      "outputs": [
        {
          "output_type": "stream",
          "name": "stdout",
          "text": [
            "6993\n"
          ]
        }
      ]
    },
    {
      "cell_type": "markdown",
      "metadata": {
        "id": "AFVANJQ4_jbW"
      },
      "source": [
        "<h4>TF-IDF: Term Frequency - Inverse Document Frequency</h4>\n",
        "\n",
        "\n"
      ]
    },
    {
      "cell_type": "markdown",
      "metadata": {
        "id": "vd6M2yZCCzGG"
      },
      "source": [
        "TFIDF é uma medida estatística que busca identificar a importância de uma palavra no texto em relação ao conjunto total de dados. A métrica é obtida pelo produto entre a frequência de uma palavra em um documento - neste caso Tweet - e o inverso da frequência da mesma palavra em todo o dataset - conjunto de treino."
      ]
    },
    {
      "cell_type": "markdown",
      "metadata": {
        "id": "Bpo96c-sCptG"
      },
      "source": [
        "Usamos o método transform() para transformar a matriz de ocorrência em uma representação TF-IDF"
      ]
    },
    {
      "cell_type": "code",
      "metadata": {
        "id": "fyOg0Jw0_jbX"
      },
      "source": [
        "tfidf_transformer = TfidfTransformer()\n",
        "X_train_tfidf = tfidf_transformer.fit_transform(X_train_vect)"
      ],
      "execution_count": null,
      "outputs": []
    },
    {
      "cell_type": "code",
      "metadata": {
        "colab": {
          "base_uri": "https://localhost:8080/"
        },
        "id": "feSK0iQp_jbX",
        "outputId": "0e9b9844-dfc8-4631-9e7a-86bb394f4fd4"
      },
      "source": [
        "print(X_train_tfidf.shape)"
      ],
      "execution_count": null,
      "outputs": [
        {
          "output_type": "stream",
          "name": "stdout",
          "text": [
            "(100000, 33647)\n"
          ]
        }
      ]
    },
    {
      "cell_type": "markdown",
      "metadata": {
        "id": "qKLf0o9w_jbX"
      },
      "source": [
        "<h2>Preparo do algoritmo e teste do modelo</h2>"
      ]
    },
    {
      "cell_type": "markdown",
      "metadata": {
        "id": "FhUGbmfI_jbY"
      },
      "source": [
        "<h4>Treinando um classificador - MultinomialNB</h4>"
      ]
    },
    {
      "cell_type": "code",
      "metadata": {
        "colab": {
          "base_uri": "https://localhost:8080/"
        },
        "id": "Ur2f-_BK_jbY",
        "outputId": "ac6b25c1-74f2-4f5a-ea0e-d97b87f0821a"
      },
      "source": [
        "model = MultinomialNB()\n",
        "model.fit(X_train_tfidf, y_train)"
      ],
      "execution_count": null,
      "outputs": [
        {
          "output_type": "execute_result",
          "data": {
            "text/plain": [
              "MultinomialNB()"
            ]
          },
          "metadata": {},
          "execution_count": 170
        }
      ]
    },
    {
      "cell_type": "markdown",
      "metadata": {
        "id": "Z_do-Wee_jbY"
      },
      "source": [
        "<h2>Predições</h2>"
      ]
    },
    {
      "cell_type": "markdown",
      "metadata": {
        "id": "nmV_eKjk_jbZ"
      },
      "source": [
        "<h4>Predições individuais</h4>\n",
        "\n",
        "Testamos o modelo em alguns tweets individuaius"
      ]
    },
    {
      "cell_type": "code",
      "metadata": {
        "id": "igSw4Pr5_jbZ"
      },
      "source": [
        "new_corpus = [\n",
        "        '@acme A alegria está na luta, na tentativa, no sofrimento envolvido e não na vitória propriamente dita!', \n",
        "        'A alegria evita mil males e prolonga a vida.',\n",
        "        'não se deve maltratar os idosos, eles possuem muita sabedoria!',\n",
        "        '#filmedevampiro tome muito cuidado com o dracula... :( www.filmedevampiro.com.br',\n",
        "        \"O FLAMENGO É CAMPEÃO DA COPA CHEIRINHO 2021 PARABÉNS FLAMENGO!\",\n",
        "        \"Assim de saúde vendo o Flamengo perder pro Palmeiras.. vai tomar no cu odeio o palmeiras vai se foder\",\n",
        "        \"elas nao cantam nada vai se foder nao inventam uma letra nao dao um grito direito nao tem VONTADE nao tem nd não merecem show nao mereceeeeem vsf meud eus que raiva poreaa jdudiakaiwhrjajqja a a ajdje\",\n",
        "        \"O mal é ficar se justificando pra pessoas que não consomem seu conteúdo e que não vivem a realidade que eles defendem na internet. O trabalhador não tá te perturbando na net não, bonner. Só faz o que é melhor pra tua realidade e arca com isso. A vida é assim. Só cabe a você isso.\"\n",
        "        ]"
      ],
      "execution_count": null,
      "outputs": []
    },
    {
      "cell_type": "markdown",
      "metadata": {
        "id": "ehuAJuTv_jbZ"
      },
      "source": [
        "<h4>Preprocessamento de novas observações</h4>"
      ]
    },
    {
      "cell_type": "code",
      "metadata": {
        "id": "DVB9YbQU_jba"
      },
      "source": [
        "X_new = new_corpus"
      ],
      "execution_count": null,
      "outputs": []
    },
    {
      "cell_type": "code",
      "metadata": {
        "id": "THq8ZInV_jba"
      },
      "source": [
        "# Remove urls do texto (http(s), www)\n",
        "X_new = _remove_url(X_new)"
      ],
      "execution_count": null,
      "outputs": []
    },
    {
      "cell_type": "code",
      "metadata": {
        "id": "sS33lL11_jbb"
      },
      "source": [
        "# Remove hashtags\n",
        "regex_pattern = '#[\\w]*'\n",
        "X_new = _remove_regex(X_new, regex_pattern)"
      ],
      "execution_count": null,
      "outputs": []
    },
    {
      "cell_type": "code",
      "metadata": {
        "id": "YqQDW6us_jbb"
      },
      "source": [
        "# Remove notações\n",
        "regex_pattern = '@[\\w]*'\n",
        "X_new = _remove_regex(X_new, regex_pattern)"
      ],
      "execution_count": null,
      "outputs": []
    },
    {
      "cell_type": "code",
      "metadata": {
        "id": "y4hy1Sf2_jbb"
      },
      "source": [
        "# Substitui emoticons \":)) :) :D :(\" por positive_emoticon ou negative_emoticon ou neutral_emoticon\n",
        "X_new = _replace_emoticons(X_new, emoticon_list)"
      ],
      "execution_count": null,
      "outputs": []
    },
    {
      "cell_type": "code",
      "metadata": {
        "id": "US1OWFy-_jbb"
      },
      "source": [
        "# Tokenizacao do texto\n",
        "X_new_tokens = _tokenize_text(X_new)"
      ],
      "execution_count": null,
      "outputs": []
    },
    {
      "cell_type": "code",
      "metadata": {
        "id": "odY0rZaD_jbb"
      },
      "source": [
        "# Padronizacao dos objetos\n",
        "X_new_tokens = _apply_standardization(X_new_tokens, std_list)"
      ],
      "execution_count": null,
      "outputs": []
    },
    {
      "cell_type": "code",
      "metadata": {
        "id": "6isJVoUd_jbc"
      },
      "source": [
        "# remove stopwords\n",
        "X_new_tokens = _remove_stopwords(X_new_tokens, stopword_list)"
      ],
      "execution_count": null,
      "outputs": []
    },
    {
      "cell_type": "markdown",
      "metadata": {
        "id": "cebGIoxv_jbc"
      },
      "source": [
        "<h4>Normalização de itens lexicais</h4>"
      ]
    },
    {
      "cell_type": "code",
      "metadata": {
        "id": "0yna0JWs_jbe"
      },
      "source": [
        "# Stemming (redução de dimensão)\n",
        "X_new_tokens = _apply_stemmer(X_new_tokens)"
      ],
      "execution_count": null,
      "outputs": []
    },
    {
      "cell_type": "markdown",
      "metadata": {
        "id": "9M8_xz9R_jbe"
      },
      "source": [
        "<h4>Bag-of-Words</h4>\n"
      ]
    },
    {
      "cell_type": "code",
      "metadata": {
        "id": "xIl0P5S-_jbe"
      },
      "source": [
        "# Dataset preparation\n",
        "# Untokenize text (transform tokenized text into string list)\n",
        "X_new = _untokenize_text(X_new_tokens)"
      ],
      "execution_count": null,
      "outputs": []
    },
    {
      "cell_type": "code",
      "metadata": {
        "id": "v83Z-zpz_jbe"
      },
      "source": [
        "# Text to Features\n",
        "# Feature extraction from text \n",
        "# Method: bag of words\n",
        "X_new_vect = vectorizer.transform(X_new)"
      ],
      "execution_count": null,
      "outputs": []
    },
    {
      "cell_type": "code",
      "metadata": {
        "colab": {
          "base_uri": "https://localhost:8080/"
        },
        "id": "nD38WIwD_jbf",
        "outputId": "22966184-5416-45c5-8c0c-32f25fdfaa6e"
      },
      "source": [
        "print(X_new_vect.shape)"
      ],
      "execution_count": null,
      "outputs": [
        {
          "output_type": "stream",
          "name": "stdout",
          "text": [
            "(8, 33647)\n"
          ]
        }
      ]
    },
    {
      "cell_type": "code",
      "metadata": {
        "colab": {
          "base_uri": "https://localhost:8080/"
        },
        "id": "wWjTGXub_jbf",
        "outputId": "6000fbd2-ecc2-4703-f667-62445b6dbf4e"
      },
      "source": [
        "print(vectorizer.vocabulary_.get(u'idos'))\n",
        "print(vectorizer.vocabulary_.get(u'alegr'))"
      ],
      "execution_count": null,
      "outputs": [
        {
          "output_type": "stream",
          "name": "stdout",
          "text": [
            "17095\n",
            "3929\n"
          ]
        }
      ]
    },
    {
      "cell_type": "code",
      "metadata": {
        "id": "zpX0Z81V_jbf"
      },
      "source": [
        "# TF-IDF: Term Frequency - Inverse Document Frequency\n",
        "# use the transform(...) method to transform count-matrix to a tf-idf representation.\n",
        "X_new_tfidf = tfidf_transformer.transform(X_new_vect)"
      ],
      "execution_count": null,
      "outputs": []
    },
    {
      "cell_type": "code",
      "metadata": {
        "colab": {
          "base_uri": "https://localhost:8080/"
        },
        "id": "2lL2oWRb_jbh",
        "outputId": "56bc44c6-36df-4d7b-b58d-7b8beb22f6ca"
      },
      "source": [
        "print(X_new_tfidf.shape)"
      ],
      "execution_count": null,
      "outputs": [
        {
          "output_type": "stream",
          "name": "stdout",
          "text": [
            "(8, 33647)\n"
          ]
        }
      ]
    },
    {
      "cell_type": "markdown",
      "metadata": {
        "id": "9yIuok9z_jbh"
      },
      "source": [
        "<h4>Predições em novas observações</h4>"
      ]
    },
    {
      "cell_type": "code",
      "metadata": {
        "id": "k05KF7IT_jbh"
      },
      "source": [
        "standalone_predictions = model.predict(X_new_tfidf)"
      ],
      "execution_count": null,
      "outputs": []
    },
    {
      "cell_type": "code",
      "metadata": {
        "colab": {
          "base_uri": "https://localhost:8080/"
        },
        "id": "4C704OyN_jbh",
        "outputId": "71c04100-5d6d-4ccb-95f2-e25b3591fe6d"
      },
      "source": [
        "for doc, prediction in zip(new_corpus, standalone_predictions):\n",
        "    print('%r => %s' % (doc, prediction))"
      ],
      "execution_count": null,
      "outputs": [
        {
          "output_type": "stream",
          "name": "stdout",
          "text": [
            "'@acme A alegria está na luta, na tentativa, no sofrimento envolvido e não na vitória propriamente dita!' => Positive\n",
            "'A alegria evita mil males e prolonga a vida.' => Neutral\n",
            "'não se deve maltratar os idosos, eles possuem muita sabedoria!' => Neutral\n",
            "'#filmedevampiro tome muito cuidado com o dracula... :( www.filmedevampiro.com.br' => Negative\n",
            "'O FLAMENGO É CAMPEÃO DA COPA CHEIRINHO 2021 PARABÉNS FLAMENGO!' => Neutral\n",
            "'Assim de saúde vendo o Flamengo perder pro Palmeiras.. vai tomar no cu odeio o palmeiras vai se foder' => Positive\n",
            "'elas nao cantam nada vai se foder nao inventam uma letra nao dao um grito direito nao tem VONTADE nao tem nd não merecem show nao mereceeeeem vsf meud eus que raiva poreaa jdudiakaiwhrjajqja a a ajdje' => Negative\n",
            "'O mal é ficar se justificando pra pessoas que não consomem seu conteúdo e que não vivem a realidade que eles defendem na internet. O trabalhador não tá te perturbando na net não, bonner. Só faz o que é melhor pra tua realidade e arca com isso. A vida é assim. Só cabe a você isso.' => Negative\n"
          ]
        }
      ]
    },
    {
      "cell_type": "markdown",
      "metadata": {
        "id": "DySQexSI_jbh"
      },
      "source": [
        "<h2>Métrica de avaliação do modelo</h2>"
      ]
    },
    {
      "cell_type": "markdown",
      "source": [
        "Para avaliar os diferentes modelos implementados, usaremos a acurácia, que nada mais é do que a soma dos Verdadeiros Positivos e Negativos, dividida pelo total das classificações. Essas informações são apresentadas na matriz de confusão."
      ],
      "metadata": {
        "id": "ANdGf8i18Khq"
      }
    },
    {
      "cell_type": "code",
      "metadata": {
        "id": "NGYCcesg_jbi"
      },
      "source": [
        "def _get_accuracy(matrix):\n",
        "    acc = 0\n",
        "    n = 0\n",
        "    total = 0\n",
        "    \n",
        "    for i in range(0, len(matrix)):\n",
        "        for j in range(0, len(matrix)):\n",
        "            if(i == j): \n",
        "                n += matrix[i,j]\n",
        "            \n",
        "            total += matrix[i,j]\n",
        "            \n",
        "    acc = n / total\n",
        "    return acc"
      ],
      "execution_count": null,
      "outputs": []
    },
    {
      "cell_type": "markdown",
      "metadata": {
        "id": "gL5OrRtD_jbj"
      },
      "source": [
        "<h4>Bag-of-Words</h4>\n"
      ]
    },
    {
      "cell_type": "code",
      "metadata": {
        "colab": {
          "base_uri": "https://localhost:8080/"
        },
        "id": "Ws5FyFY-_jbj",
        "outputId": "a5c2232b-97b3-42c3-83a3-18824a83d45d"
      },
      "source": [
        "# Text to Features\n",
        "# Feature extraction from text \n",
        "# Method: bag of words\n",
        "X_test_vect = vectorizer.transform(X_test)\n",
        "print(X_test_vect.shape)"
      ],
      "execution_count": null,
      "outputs": [
        {
          "output_type": "stream",
          "name": "stdout",
          "text": [
            "(4999, 33647)\n"
          ]
        }
      ]
    },
    {
      "cell_type": "code",
      "metadata": {
        "colab": {
          "base_uri": "https://localhost:8080/"
        },
        "id": "erESkQid_jbj",
        "outputId": "8d9519e9-431b-42c5-fbe2-fade800360b3"
      },
      "source": [
        "# TF-IDF: Term Frequency - Inverse Document Frequency\n",
        "# use the transform(...) method to transform count-matrix to a tf-idf representation.\n",
        "X_test_tfidf = tfidf_transformer.transform(X_test_vect)\n",
        "print(X_test_tfidf.shape)"
      ],
      "execution_count": null,
      "outputs": [
        {
          "output_type": "stream",
          "name": "stdout",
          "text": [
            "(4999, 33647)\n"
          ]
        }
      ]
    },
    {
      "cell_type": "markdown",
      "metadata": {
        "id": "BY-01Cwj_jbk"
      },
      "source": [
        "<h4>Predições no conjunto de teste</h4>"
      ]
    },
    {
      "cell_type": "code",
      "metadata": {
        "id": "9cFS7Lgs_jbk"
      },
      "source": [
        "predictions = model.predict(X_test_tfidf)"
      ],
      "execution_count": null,
      "outputs": []
    },
    {
      "cell_type": "markdown",
      "metadata": {
        "id": "iuysbIRH_jbk"
      },
      "source": [
        "<h4>Análise dos resultados</h4>"
      ]
    },
    {
      "cell_type": "code",
      "metadata": {
        "colab": {
          "base_uri": "https://localhost:8080/"
        },
        "id": "Qiklngn9_jbk",
        "outputId": "bff4cd26-9981-447e-82c9-d61761ae899f"
      },
      "source": [
        "matrix = metrics.confusion_matrix(y_test, predictions)\n",
        "print(matrix)"
      ],
      "execution_count": null,
      "outputs": [
        {
          "output_type": "stream",
          "name": "stdout",
          "text": [
            "[[1541   18  107]\n",
            " [  21 1594   51]\n",
            " [ 122   48 1497]]\n"
          ]
        }
      ]
    },
    {
      "cell_type": "code",
      "metadata": {
        "colab": {
          "base_uri": "https://localhost:8080/"
        },
        "id": "Yj-DMKk7_jbl",
        "outputId": "92d9c24e-98c6-4ae3-fbe1-77374a13e523"
      },
      "source": [
        "print(model.classes_)"
      ],
      "execution_count": null,
      "outputs": [
        {
          "output_type": "stream",
          "name": "stdout",
          "text": [
            "['Negative' 'Neutral' 'Positive']\n"
          ]
        }
      ]
    },
    {
      "cell_type": "code",
      "metadata": {
        "colab": {
          "base_uri": "https://localhost:8080/"
        },
        "id": "z-4j6Eox_jbl",
        "outputId": "96f26550-0628-4363-dcab-b28ad4b20520"
      },
      "source": [
        "acc1 = np.mean(predictions == y_test)\n",
        "acc2 = _get_accuracy(matrix)\n",
        "print(acc1, acc2)"
      ],
      "execution_count": null,
      "outputs": [
        {
          "output_type": "stream",
          "name": "stdout",
          "text": [
            "0.9265853170634126 0.9265853170634126\n"
          ]
        }
      ]
    },
    {
      "cell_type": "code",
      "metadata": {
        "colab": {
          "base_uri": "https://localhost:8080/"
        },
        "id": "JI3rP_Dh_jbl",
        "outputId": "6bda87b8-4f74-41f2-c69b-113a9e1261d3"
      },
      "source": [
        "for doc, prediction, y in zip(X_test[0:10], predictions[0:10], y_test[0:10]):\n",
        "    print('%r => %s [%s]' % (doc, prediction, y))"
      ],
      "execution_count": null,
      "outputs": [
        {
          "output_type": "stream",
          "name": "stdout",
          "text": [
            "'obrig positive_emoticon ' => Positive [Positive]\n",
            "'vai pa put par positive_emoticon ' => Positive [Positive]\n",
            "'qu descont 14 / 0neutral_emoticon ⭐⭐⭐⭐⭐ 🌐 conf link compartilh encontr ofert cupom procur preocup ;) cri pagin ofert cupom atual di positive_emoticon ' => Positive [Positive]\n",
            "'peg ajud gal am but positive_emoticon ' => Positive [Positive]\n",
            "'cas zé morr son cheg cas fic son positive_emoticon )) ' => Positive [Positive]\n",
            "'precis positive_emoticon ' => Positive [Positive]\n",
            "'acas ador beij abraç hahahahah bue fofii ahahah altur agor gost positive_emoticon ' => Positive [Positive]\n",
            "'solt s so sempr positive_emoticon ' => Positive [Positive]\n",
            "'lind cort kit mári coleç bia cravol cadastr sit esper pod ir adquir arras encomend afinal tem moment positive_emoticon ' => Positive [Positive]\n",
            "'clar sim positive_emoticon ' => Positive [Positive]\n"
          ]
        }
      ]
    },
    {
      "cell_type": "code",
      "metadata": {
        "colab": {
          "base_uri": "https://localhost:8080/"
        },
        "id": "SZ9tj1UP_jbm",
        "outputId": "2d739c11-6d5d-4fe8-e3dd-3a4d1e29bb82"
      },
      "source": [
        "# analise da performance do modelo\n",
        "print(metrics.classification_report(y_test, predictions, target_names=model.classes_))"
      ],
      "execution_count": null,
      "outputs": [
        {
          "output_type": "stream",
          "name": "stdout",
          "text": [
            "              precision    recall  f1-score   support\n",
            "\n",
            "    Negative       0.92      0.92      0.92      1666\n",
            "     Neutral       0.96      0.96      0.96      1666\n",
            "    Positive       0.90      0.90      0.90      1667\n",
            "\n",
            "    accuracy                           0.93      4999\n",
            "   macro avg       0.93      0.93      0.93      4999\n",
            "weighted avg       0.93      0.93      0.93      4999\n",
            "\n"
          ]
        }
      ]
    },
    {
      "cell_type": "code",
      "source": [
        ""
      ],
      "metadata": {
        "id": "nsd8ACU0ivns"
      },
      "execution_count": null,
      "outputs": []
    },
    {
      "cell_type": "markdown",
      "metadata": {
        "id": "RmW5NSgx_jbn"
      },
      "source": [
        "<h2>Pipeline MultinomialNB</h2>\n",
        "\n",
        "Para facilitar o processo de vetorização  -> transformação -> classificação, usaremos uma classe Pipeline do scikit-learn que se comporta como uma classificador composto."
      ]
    },
    {
      "cell_type": "markdown",
      "source": [
        "Procurando agilizar o pré-processamento dos dados realizados para a Bag of Words, implementamos um Pipeline que repetirá as funções CountVectorizer, TfidfTransformer e aplicará o modelo utilizado para a classificação, neste casso Multinomial Naive Bayes."
      ],
      "metadata": {
        "id": "C58N0hNDGGnf"
      }
    },
    {
      "cell_type": "code",
      "metadata": {
        "id": "sTziFxua_jbn"
      },
      "source": [
        "model_MNB = Pipeline([\n",
        "    ('vect', CountVectorizer()),\n",
        "    ('tfidf', TfidfTransformer()),\n",
        "    ('clf', MultinomialNB()),\n",
        "])"
      ],
      "execution_count": null,
      "outputs": []
    },
    {
      "cell_type": "markdown",
      "metadata": {
        "id": "4iBDckuB_jbo"
      },
      "source": [
        "\n",
        "Usamos os elementos 'vect', 'tfidf' e 'clf' (nomes arbitrários) para realizarmos uma \"grid search\" e encontrarmos os hiperparâmetros mais satisfatórios para o modelo de classificação. Podemos treinar o modelo facilmente agora:"
      ]
    },
    {
      "cell_type": "code",
      "metadata": {
        "id": "4AMegbg7_jbo"
      },
      "source": [
        "model_MNB.fit(X_train, y_train)\n",
        "predictions_MNB = model_MNB.predict(X_test)"
      ],
      "execution_count": null,
      "outputs": []
    },
    {
      "cell_type": "code",
      "metadata": {
        "colab": {
          "base_uri": "https://localhost:8080/"
        },
        "id": "2-vfraU2_jbo",
        "outputId": "1473743f-2c75-45ce-bae2-277d9b51d5be"
      },
      "source": [
        "matrix = metrics.confusion_matrix(y_test, predictions_MNB)\n",
        "acc_NB = _get_accuracy(matrix)\n",
        "print(acc_NB)"
      ],
      "execution_count": null,
      "outputs": [
        {
          "output_type": "stream",
          "name": "stdout",
          "text": [
            "0.9265853170634126\n"
          ]
        }
      ]
    },
    {
      "cell_type": "markdown",
      "metadata": {
        "id": "jOmszqGw_jbp"
      },
      "source": [
        "<h2>Pipeline SGDClassifier, a linear support vector machine (SVM)</h2>"
      ]
    },
    {
      "cell_type": "code",
      "metadata": {
        "id": "Wgsr2BG4_jbp"
      },
      "source": [
        "model_SGD = Pipeline([\n",
        "    ('vect', CountVectorizer()),\n",
        "    ('tfidf', TfidfTransformer()),\n",
        "    ('clf', SGDClassifier(loss = 'hinge', penalty = 'l2', alpha = 1e-3, random_state = 42, max_iter = 5, tol = None)),\n",
        "])"
      ],
      "execution_count": null,
      "outputs": []
    },
    {
      "cell_type": "code",
      "metadata": {
        "id": "rw8sJieJ_jbq"
      },
      "source": [
        "model_SGD.fit(X_train, y_train)\n",
        "predictions_SGD = model_SGD.predict(X_test)"
      ],
      "execution_count": null,
      "outputs": []
    },
    {
      "cell_type": "code",
      "metadata": {
        "colab": {
          "base_uri": "https://localhost:8080/"
        },
        "id": "m-THmob3_jbq",
        "outputId": "ea8abec4-0b3f-46aa-d391-6826c696d8f8"
      },
      "source": [
        "matrix = metrics.confusion_matrix(y_test, predictions_SGD)\n",
        "acc_antes = _get_accuracy(matrix)\n",
        "print(acc_antes)"
      ],
      "execution_count": null,
      "outputs": [
        {
          "output_type": "stream",
          "name": "stdout",
          "text": [
            "0.9585917183436687\n"
          ]
        }
      ]
    },
    {
      "cell_type": "markdown",
      "metadata": {
        "id": "P_xrcyto_jbq"
      },
      "source": [
        "<h2>Ajuste de parâmetro usando Grid Search SGDClassifier</h2>"
      ]
    },
    {
      "cell_type": "markdown",
      "metadata": {
        "id": "HOVJ1fm5_jbq"
      },
      "source": [
        "\n",
        "Para encontrarmos os melhores hiperparâmetros recorremos a uma busca exaustiva usando GridSearch em um espaço de busca definido."
      ]
    },
    {
      "cell_type": "code",
      "metadata": {
        "id": "L2sQ5I___jbq"
      },
      "source": [
        "#espaço de busca\n",
        "parameters = {\n",
        "    'vect__ngram_range': [(1, 1), (1, 2)],\n",
        "    'tfidf__use_idf': (True, False),\n",
        "    'clf__alpha': (1e-2, 1e-3),\n",
        "}"
      ],
      "execution_count": null,
      "outputs": []
    },
    {
      "cell_type": "code",
      "metadata": {
        "id": "BBLAfy-t_jbq"
      },
      "source": [
        "gs_model_SGD = GridSearchCV(model_SGD, parameters, cv = 5, n_jobs = -1)\n",
        "gs_model_SGD = gs_model_SGD.fit(X_train, y_train)"
      ],
      "execution_count": null,
      "outputs": []
    },
    {
      "cell_type": "code",
      "metadata": {
        "id": "G-c9ncvA_jbr",
        "colab": {
          "base_uri": "https://localhost:8080/"
        },
        "outputId": "fafd413c-cb95-433e-9a63-500920bc1919"
      },
      "source": [
        "gs_predictions_SGD = gs_model_SGD.predict(['alegr lut tent sofr envolv não vit propri dit.'])\n",
        "print(gs_predictions_SGD)"
      ],
      "execution_count": null,
      "outputs": [
        {
          "output_type": "stream",
          "name": "stdout",
          "text": [
            "['Neutral']\n"
          ]
        }
      ]
    },
    {
      "cell_type": "code",
      "metadata": {
        "id": "DhlFAAU7_jbr",
        "colab": {
          "base_uri": "https://localhost:8080/"
        },
        "outputId": "10a1a3f9-c98d-4f38-c92a-c5b8d5f6aad6"
      },
      "source": [
        "X_new"
      ],
      "execution_count": null,
      "outputs": [
        {
          "output_type": "execute_result",
          "data": {
            "text/plain": [
              "['alegr lut tent sofr envolv vitór propr dit ',\n",
              " 'alegr evit mil mal prolong vid ',\n",
              " 'dev maltrat idos possu muit sabed ',\n",
              " 'tom cuid dracul negative_emoticon ',\n",
              " 'flameng campeã cop che 2021 parabém flameng ',\n",
              " 'assim saúd vend flameng perd pro palm .. vai tom cu odei palm vai fod ',\n",
              " 'nao cant nad vai fod nao invent letr nao dao grit direit nao vontad nao nd merec show nao mereceeee vsf meud eu raiv porea jdudiakaiwhrjajqj ajdj ',\n",
              " 'mal fic justific pra pesso consom conteúd viv real defend internet trabalh tá perturb net bonn faz melhor pra real arc vid assim cab ']"
            ]
          },
          "metadata": {},
          "execution_count": 207
        }
      ]
    },
    {
      "cell_type": "code",
      "metadata": {
        "id": "PnkCIudr_jbr",
        "colab": {
          "base_uri": "https://localhost:8080/"
        },
        "outputId": "12fabe4f-4d66-4402-f6bb-386bcac3f7eb"
      },
      "source": [
        "gs_predictions_SGD = gs_model_SGD.predict(X_new)\n",
        "print(gs_predictions_SGD)"
      ],
      "execution_count": null,
      "outputs": [
        {
          "output_type": "stream",
          "name": "stdout",
          "text": [
            "['Neutral' 'Neutral' 'Neutral' 'Negative' 'Neutral' 'Neutral' 'Neutral'\n",
            " 'Neutral']\n"
          ]
        }
      ]
    },
    {
      "cell_type": "code",
      "metadata": {
        "id": "yag-ai7H_jbs",
        "colab": {
          "base_uri": "https://localhost:8080/"
        },
        "outputId": "2ad053b6-05f6-4566-9d6c-4227d3a3b87d"
      },
      "source": [
        "print(gs_model_SGD.best_score_)"
      ],
      "execution_count": null,
      "outputs": [
        {
          "output_type": "stream",
          "name": "stdout",
          "text": [
            "0.96359\n"
          ]
        }
      ]
    },
    {
      "cell_type": "code",
      "metadata": {
        "id": "O_5VLvQJ_jbs",
        "colab": {
          "base_uri": "https://localhost:8080/"
        },
        "outputId": "541a0ddf-b4d0-4020-c0c3-e726ed49c7c5"
      },
      "source": [
        "print(gs_model_SGD.best_params_)"
      ],
      "execution_count": null,
      "outputs": [
        {
          "output_type": "stream",
          "name": "stdout",
          "text": [
            "{'clf__alpha': 0.001, 'tfidf__use_idf': False, 'vect__ngram_range': (1, 2)}\n"
          ]
        }
      ]
    },
    {
      "cell_type": "code",
      "metadata": {
        "id": "nP8KTV--_jbs",
        "colab": {
          "base_uri": "https://localhost:8080/"
        },
        "outputId": "64f9bd75-8f3d-4011-9f53-cf223ab011b8"
      },
      "source": [
        "for param_name in sorted(parameters.keys()):\n",
        "    print(\"%s: %r\" % (param_name, gs_model_SGD.best_params_[param_name]))"
      ],
      "execution_count": null,
      "outputs": [
        {
          "output_type": "stream",
          "name": "stdout",
          "text": [
            "clf__alpha: 0.001\n",
            "tfidf__use_idf: False\n",
            "vect__ngram_range: (1, 2)\n"
          ]
        }
      ]
    },
    {
      "cell_type": "markdown",
      "metadata": {
        "id": "u-6OiPD3iSOI"
      },
      "source": [
        "Aplicando os hiperparâmetros ao conjunto de teste:"
      ]
    },
    {
      "cell_type": "code",
      "metadata": {
        "id": "fyql3qTviRiU"
      },
      "source": [
        "parameters = {\n",
        "    'vect__ngram_range': [(1, 2)],\n",
        "    'tfidf__use_idf': [(False)],\n",
        "    'clf__alpha': [(1e-3)],\n",
        "}\n"
      ],
      "execution_count": null,
      "outputs": []
    },
    {
      "cell_type": "code",
      "metadata": {
        "id": "brFR84ABrDuT"
      },
      "source": [
        "gs_model_SGD = GridSearchCV(model_SGD, parameters, cv = 5, n_jobs = -1)\n",
        "gs_model_SGD = gs_model_SGD.fit(X_train, y_train)"
      ],
      "execution_count": null,
      "outputs": []
    },
    {
      "cell_type": "code",
      "metadata": {
        "id": "TL_yvyIirSTl",
        "colab": {
          "base_uri": "https://localhost:8080/"
        },
        "outputId": "8278c155-0466-4944-ad43-4355c0edf5a9"
      },
      "source": [
        "gs_predictions_SGD = gs_model_SGD.predict(X_test)\n",
        "print(gs_predictions_SGD)"
      ],
      "execution_count": null,
      "outputs": [
        {
          "output_type": "stream",
          "name": "stdout",
          "text": [
            "['Positive' 'Positive' 'Positive' ... 'Neutral' 'Neutral' 'Neutral']\n"
          ]
        }
      ]
    },
    {
      "cell_type": "code",
      "metadata": {
        "id": "tH3XQecwrYAx",
        "colab": {
          "base_uri": "https://localhost:8080/"
        },
        "outputId": "5d75cf40-eab7-4282-83fe-eeb747ac28a3"
      },
      "source": [
        "matrix = metrics.confusion_matrix(y_test, gs_predictions_SGD)\n",
        "acc_dps = _get_accuracy(matrix)\n",
        "print(acc_dps)"
      ],
      "execution_count": null,
      "outputs": [
        {
          "output_type": "stream",
          "name": "stdout",
          "text": [
            "0.9591918383676735\n"
          ]
        }
      ]
    },
    {
      "cell_type": "code",
      "source": [
        "f'Melhora na acurácia do modelo {(acc_dps-acc_antes)/acc_antes}'"
      ],
      "metadata": {
        "id": "oopcxaGwEAiJ",
        "colab": {
          "base_uri": "https://localhost:8080/",
          "height": 36
        },
        "outputId": "95f5aeca-6ce7-4456-df04-19e686484aed"
      },
      "execution_count": null,
      "outputs": [
        {
          "output_type": "execute_result",
          "data": {
            "application/vnd.google.colaboratory.intrinsic+json": {
              "type": "string"
            },
            "text/plain": [
              "'Melhora na acurácia do modelo 0.000626043405676105'"
            ]
          },
          "metadata": {},
          "execution_count": 216
        }
      ]
    },
    {
      "cell_type": "code",
      "source": [
        "acc_SGD = acc_dps"
      ],
      "metadata": {
        "id": "Qe6I_0W0-EzF"
      },
      "execution_count": null,
      "outputs": []
    },
    {
      "cell_type": "code",
      "source": [
        ""
      ],
      "metadata": {
        "id": "w1RsKnLUg2fw"
      },
      "execution_count": null,
      "outputs": []
    },
    {
      "cell_type": "markdown",
      "source": [
        "Assim, filtrando os melhores hiperparâmetros, conseguimos aumentar nossa acurácia em 0.06%. É importante ressaltar que usamos um espaço de busca bastante reduzido em razão do poder de processamento limitado, se pudéssemos aumentar o número de combinações de hiperparâmetros testadas pelo GridSearch é provável que fóssemos capazes de encontrar modelos ainda mais precisos. "
      ],
      "metadata": {
        "id": "nsBgdKuVDmqG"
      }
    },
    {
      "cell_type": "markdown",
      "metadata": {
        "id": "4-nzwKHi_jbt"
      },
      "source": [
        "<h2>Avaliando outros modelos</h2>\n",
        "KNN Classifier\n",
        "<br/>\n",
        "Regressão Logística\n",
        "<br/>\n",
        "Support Vector Machine (SVM)\n",
        "<br/>\n",
        "Random Forest\n",
        "<br/>\n",
        "Gradient Boosting Model"
      ]
    },
    {
      "cell_type": "markdown",
      "source": [
        "Como não conseguimos uma melhora relevante por meio da GridSearch implementada anteriormente, não a aplicaremos aos outros modelos, já que o tempo de processamento é muito alto em relação a melhora da acurácia."
      ],
      "metadata": {
        "id": "w_p5ifRE85ET"
      }
    },
    {
      "cell_type": "markdown",
      "source": [
        "#KNN Classifier"
      ],
      "metadata": {
        "id": "Ftuuj1buiyPi"
      }
    },
    {
      "cell_type": "code",
      "source": [
        "from sklearn.neighbors import KNeighborsClassifier\n",
        "\n",
        "model_KN = Pipeline([\n",
        "    ('vect', CountVectorizer()),\n",
        "    ('tfidf', TfidfTransformer()),\n",
        "    ('clf', KNeighborsClassifier()),\n",
        "])"
      ],
      "metadata": {
        "id": "RZDmS7tmi0Vr"
      },
      "execution_count": null,
      "outputs": []
    },
    {
      "cell_type": "code",
      "source": [
        "model_KN.fit(X_train, y_train)"
      ],
      "metadata": {
        "colab": {
          "base_uri": "https://localhost:8080/"
        },
        "id": "504AvahI-lQ_",
        "outputId": "e747f12e-7b9b-4112-ccee-315159c5aa08"
      },
      "execution_count": null,
      "outputs": [
        {
          "output_type": "execute_result",
          "data": {
            "text/plain": [
              "Pipeline(steps=[('vect', CountVectorizer()), ('tfidf', TfidfTransformer()),\n",
              "                ('clf', KNeighborsClassifier())])"
            ]
          },
          "metadata": {},
          "execution_count": 219
        }
      ]
    },
    {
      "cell_type": "code",
      "source": [
        "predictions_KN = model_KN.predict(X_test)"
      ],
      "metadata": {
        "id": "nKzcOWIE-_yp"
      },
      "execution_count": null,
      "outputs": []
    },
    {
      "cell_type": "code",
      "source": [
        "matrix = metrics.confusion_matrix(y_test, predictions_KN)\n",
        "acc_KN = _get_accuracy(matrix)\n",
        "print(acc_KN)"
      ],
      "metadata": {
        "colab": {
          "base_uri": "https://localhost:8080/"
        },
        "id": "WR0HuF3U_Clx",
        "outputId": "d75665ad-8ec4-44d9-ba12-b250ae883ac7"
      },
      "execution_count": null,
      "outputs": [
        {
          "output_type": "stream",
          "name": "stdout",
          "text": [
            "0.6095219043808762\n"
          ]
        }
      ]
    },
    {
      "cell_type": "markdown",
      "metadata": {
        "id": "ZMreX-Hu_jbt"
      },
      "source": [
        "#<h2> Regressão Logística</h2>"
      ]
    },
    {
      "cell_type": "code",
      "metadata": {
        "id": "8gn_e_BV_jbt"
      },
      "source": [
        "model_LR = Pipeline([\n",
        "    ('vect', CountVectorizer()),\n",
        "    ('tfidf', TfidfTransformer()),\n",
        "    ('clf', LogisticRegression(max_iter= 1000)),\n",
        "])"
      ],
      "execution_count": null,
      "outputs": []
    },
    {
      "cell_type": "code",
      "source": [
        "\n",
        "model_LR.fit(X_train, y_train)"
      ],
      "metadata": {
        "id": "DVbgvdAFl0_7",
        "colab": {
          "base_uri": "https://localhost:8080/"
        },
        "outputId": "9b0fbeae-a6b5-4307-d1bd-5bb78b7ac687"
      },
      "execution_count": null,
      "outputs": [
        {
          "output_type": "execute_result",
          "data": {
            "text/plain": [
              "Pipeline(steps=[('vect', CountVectorizer()), ('tfidf', TfidfTransformer()),\n",
              "                ('clf', LogisticRegression(max_iter=1000))])"
            ]
          },
          "metadata": {},
          "execution_count": 223
        }
      ]
    },
    {
      "cell_type": "code",
      "source": [
        "predictions_LR = model_LR.predict(X_test)"
      ],
      "metadata": {
        "id": "t2CTesCIm3I4"
      },
      "execution_count": null,
      "outputs": []
    },
    {
      "cell_type": "code",
      "metadata": {
        "id": "4gGo-bnB_jbu",
        "colab": {
          "base_uri": "https://localhost:8080/"
        },
        "outputId": "a252c0ad-854f-4acd-b368-c1aa547a60cf"
      },
      "source": [
        "matrix = metrics.confusion_matrix(y_test, predictions_LR)\n",
        "acc_LR = _get_accuracy(matrix)\n",
        "print(acc_LR)"
      ],
      "execution_count": null,
      "outputs": [
        {
          "output_type": "stream",
          "name": "stdout",
          "text": [
            "0.9693938787757551\n"
          ]
        }
      ]
    },
    {
      "cell_type": "markdown",
      "metadata": {
        "id": "oVvmEHrq_jbw"
      },
      "source": [
        "<h2> Random Forest </h2>"
      ]
    },
    {
      "cell_type": "code",
      "metadata": {
        "id": "ePCA23Pi_jbw"
      },
      "source": [
        "\n",
        "model_RF = Pipeline([\n",
        "    ('vect', CountVectorizer()),\n",
        "    ('tfidf', TfidfTransformer()),\n",
        "    ('clf', RandomForestClassifier()),\n",
        "])\n"
      ],
      "execution_count": null,
      "outputs": []
    },
    {
      "cell_type": "code",
      "metadata": {
        "id": "L3Z1fvZW_jbx"
      },
      "source": [
        "\n",
        "model_RF.fit(X_train, y_train)\n",
        "predictions_RF = model_RF.predict(X_test)\n"
      ],
      "execution_count": null,
      "outputs": []
    },
    {
      "cell_type": "code",
      "metadata": {
        "id": "WllSY9Ex_jby",
        "colab": {
          "base_uri": "https://localhost:8080/"
        },
        "outputId": "1ab7775f-9fcc-4d79-b3f8-962d060e6e7a"
      },
      "source": [
        "\n",
        "matrix = metrics.confusion_matrix(y_test, predictions_RF)\n",
        "acc_RF = _get_accuracy(matrix)\n",
        "print(acc_RF)\n"
      ],
      "execution_count": null,
      "outputs": [
        {
          "output_type": "stream",
          "name": "stdout",
          "text": [
            "0.9745949189837968\n"
          ]
        }
      ]
    },
    {
      "cell_type": "markdown",
      "metadata": {
        "id": "7_OH9daW_jby"
      },
      "source": [
        "<h2> Gradient Boosting Model</h2>"
      ]
    },
    {
      "cell_type": "code",
      "metadata": {
        "id": "p3_jjXZm_jby"
      },
      "source": [
        "from sklearn.ensemble import GradientBoostingClassifier\n",
        "\n",
        "\n",
        "model_GB = Pipeline([\n",
        "    ('vect', CountVectorizer()),\n",
        "    ('tfidf', TfidfTransformer()),\n",
        "    ('clf', GradientBoostingClassifier()),\n",
        "])\n"
      ],
      "execution_count": null,
      "outputs": []
    },
    {
      "cell_type": "code",
      "metadata": {
        "id": "u5c-R6iC_jby"
      },
      "source": [
        "\n",
        "model_GB.fit(X_train, y_train)\n",
        "predictions_GB = model_GB.predict(X_test)\n"
      ],
      "execution_count": null,
      "outputs": []
    },
    {
      "cell_type": "code",
      "metadata": {
        "id": "ZPXW5zAO_jby",
        "colab": {
          "base_uri": "https://localhost:8080/"
        },
        "outputId": "95ebd3dc-d228-4f0e-f335-0d9ca8725bbd"
      },
      "source": [
        "\n",
        "matrix = metrics.confusion_matrix(y_test, predictions_GB)\n",
        "acc_GBM = _get_accuracy(matrix)\n",
        "print(acc_GBM)\n"
      ],
      "execution_count": null,
      "outputs": [
        {
          "output_type": "stream",
          "name": "stdout",
          "text": [
            "0.9605921184236847\n"
          ]
        }
      ]
    },
    {
      "cell_type": "markdown",
      "source": [
        "#Comparação dos modelos"
      ],
      "metadata": {
        "id": "FzwU4P4t9oJJ"
      }
    },
    {
      "cell_type": "code",
      "source": [
        "acuracia = [acc_NB,acc_KN, acc_SGD, acc_LR, acc_RF, acc_GBM]\n",
        "labels = ['Multinomial NB','KNN', 'SGDClassifier', 'Logistic Regression', 'Random Forest', 'GBM']\n",
        "def addlabels(x,y):\n",
        "    for i in range(len(x)):\n",
        "        plt.text(i,y[i],y[i])\n",
        "\n",
        "plt.bar(labels, acuracia, color = ['b', 'black', 'red', 'purple', 'pink', 'darkblue'])\n",
        "addlabels(labels, np.round(acuracia,3))\n",
        "plt.xticks(rotation=90)\n",
        "\n",
        "\n",
        "plt.show()"
      ],
      "metadata": {
        "colab": {
          "base_uri": "https://localhost:8080/",
          "height": 351
        },
        "id": "hg3IFiQN9s0A",
        "outputId": "4410eae5-60a2-458e-d3c9-20f39a55b26b"
      },
      "execution_count": null,
      "outputs": [
        {
          "output_type": "display_data",
          "data": {
            "image/png": "[encoded data removed]",
            "text/plain": [
              "<Figure size 432x288 with 1 Axes>"
            ]
          },
          "metadata": {
            "needs_background": "light"
          }
        }
      ]
    },
    {
      "cell_type": "markdown",
      "source": [
        "Assim, o modelo Random Forest foi o que apresentou melhor performance no trabalho análise de sentimento."
      ],
      "metadata": {
        "id": "Zv3Uc0sVzZ2e"
      }
    },
    {
      "cell_type": "markdown",
      "source": [
        "É importante ressaltar também que decidimos não ajustar todos os modelos. O próprio Random Search, que nos ofereceu a maior acurácia não passou pelo processo, logo poderíamos ter ainda melhores resultados buscando pelos melhores hiperparâmetros."
      ],
      "metadata": {
        "id": "SiGTaZR0kqS5"
      }
    },
    {
      "cell_type": "markdown",
      "source": [
        "#Bibliografia"
      ],
      "metadata": {
        "id": "VydwTOuIls3E"
      }
    },
    {
      "cell_type": "markdown",
      "source": [
        "**Understanding TFIDF** -> https://monkeylearn.com/blog/what-is-tf-idf/ \\\\\n",
        "**A Gentle Introduction to the BagOfWords** -> https://machinelearningmastery.com/gentle-introduction-bag-words-model/ \\\\ \n",
        "**Machine Learning Basics with the K-Nearest Neighbors** -> https://towardsdatascience.com/machine-learning-basics-with-the-k-nearest-neighbors-algorithm-6a6e71d01761\n",
        "\n",
        "**Multinominal Naive-Bayes Explained** -> https://www.upgrad.com/blog/multinomial-naive-bayes-explained/ \\\\\n",
        "\n",
        "**Understanding Random Forest** -> https://towardsdatascience.com/understanding-random-forest-58381e0602d2\n",
        "\n",
        "**Logistic Regression** -> https://towardsdatascience.com/logistic-regression-detailed-overview-46c4da4303bc"
      ],
      "metadata": {
        "id": "poiTe43NluiQ"
      }
    }
  ]
}